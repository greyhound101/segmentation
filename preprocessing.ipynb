{
  "nbformat": 4,
  "nbformat_minor": 0,
  "metadata": {
    "colab": {
      "name": "preprocessing.ipynb",
      "provenance": [],
      "authorship_tag": "ABX9TyP8GsUkS8Egd4QkhnH+dsAV",
      "include_colab_link": true
    },
    "kernelspec": {
      "name": "python3",
      "display_name": "Python 3"
    }
  },
  "cells": [
    {
      "cell_type": "markdown",
      "metadata": {
        "id": "view-in-github",
        "colab_type": "text"
      },
      "source": [
        "<a href=\"https://colab.research.google.com/github/greyhound101/segmentation/blob/master/preprocessing.ipynb\" target=\"_parent\"><img src=\"https://colab.research.google.com/assets/colab-badge.svg\" alt=\"Open In Colab\"/></a>"
      ]
    },
    {
      "cell_type": "code",
      "metadata": {
        "colab": {
          "base_uri": "https://localhost:8080/"
        },
        "id": "i0ednKc3TQqS",
        "outputId": "510e2463-fbb6-4f52-97d0-351a612ee151"
      },
      "source": [
        "from google.colab import drive\r\n",
        "drive.mount('/content/gdrive')\r\n",
        "drive.mount(\"/content/gdrive\", force_remount=True)"
      ],
      "execution_count": 1,
      "outputs": [
        {
          "output_type": "stream",
          "text": [
            "Drive already mounted at /content/gdrive; to attempt to forcibly remount, call drive.mount(\"/content/gdrive\", force_remount=True).\n",
            "Mounted at /content/gdrive\n"
          ],
          "name": "stdout"
        }
      ]
    },
    {
      "cell_type": "code",
      "metadata": {
        "id": "1UTEj48lTSCa"
      },
      "source": [
        "import zipfile\r\n",
        "with zipfile.ZipFile('/content/gdrive/My Drive/segmentation/Training_Batch1.zip', 'r') as zip_ref:\r\n",
        "    zip_ref.extractall('/content/')"
      ],
      "execution_count": 2,
      "outputs": []
    },
    {
      "cell_type": "code",
      "metadata": {
        "colab": {
          "base_uri": "https://localhost:8080/"
        },
        "id": "j9Gqp4sxYTvi",
        "outputId": "b144dd9a-ee83-45a6-9f43-7f5430a39e89"
      },
      "source": [
        "pip install medpy"
      ],
      "execution_count": 3,
      "outputs": [
        {
          "output_type": "stream",
          "text": [
            "Requirement already satisfied: medpy in /usr/local/lib/python3.6/dist-packages (0.4.0)\n",
            "Requirement already satisfied: numpy>=1.11.0 in /usr/local/lib/python3.6/dist-packages (from medpy) (1.19.5)\n",
            "Requirement already satisfied: SimpleITK>=1.1.0 in /usr/local/lib/python3.6/dist-packages (from medpy) (2.0.2)\n",
            "Requirement already satisfied: scipy>=1.1.0 in /usr/local/lib/python3.6/dist-packages (from medpy) (1.4.1)\n"
          ],
          "name": "stdout"
        }
      ]
    },
    {
      "cell_type": "code",
      "metadata": {
        "id": "3MQlJkLVcDtM"
      },
      "source": [
        "from medpy.io import load, save\r\n",
        "import os\r\n",
        "import os.path\r\n",
        "import numpy as np\r\n",
        "\r\n",
        "\r\n",
        "def proprecessing(image_path, save_folder):\r\n",
        "\r\n",
        "    if not os.path.exists(\"data/\"+save_folder):\r\n",
        "        os.mkdir(\"data/\"+save_folder)\r\n",
        "    filelist = os.listdir(image_path)\r\n",
        "    filelist = [item for item in filelist if 'volume' in item]\r\n",
        "    for file in filelist:\r\n",
        "        img, img_header = load(image_path+file)\r\n",
        "        img[img < -200] = -200\r\n",
        "        img[img > 250] = 250\r\n",
        "        img = np.array(img, dtype='float32')\r\n",
        "        print (\"Saving image \"+file)\r\n",
        "        save(img, \"./data/\" + save_folder + file)\r\n",
        "\r\n",
        "def generate_livertxt(image_path, save_folder):\r\n",
        "    if not os.path.exists(\"data/\"+save_folder):\r\n",
        "        os.mkdir(\"data/\"+save_folder)\r\n",
        "\r\n",
        "    # Generate Livertxt\r\n",
        "    if not os.path.exists(\"data/\"+save_folder+'LiverPixels'):\r\n",
        "        os.mkdir(\"data/\"+save_folder+'LiverPixels')\r\n",
        "\r\n",
        "    for i in range(0,28):\r\n",
        "        livertumor, header = load(image_path+'segmentation-'+str(i)+'.nii')\r\n",
        "        f = open('data/' +save_folder+'/LiverPixels/liver_' + str(i) + '.txt', 'w')\r\n",
        "        index = np.where(livertumor==1)\r\n",
        "        print(i)\r\n",
        "        x = index[0]\r\n",
        "        y = index[1]\r\n",
        "        z = index[2]\r\n",
        "        np.savetxt(f, np.c_[x,y,z], fmt=\"%d\")\r\n",
        "\t\r\n",
        "        f.write(\"\\n\")\r\n",
        "        f.close()\r\n",
        "\r\n",
        "def generate_tumortxt(image_path, save_folder):\r\n",
        "    if not os.path.exists(\"data/\"+save_folder):\r\n",
        "        os.mkdir(\"data/\"+save_folder)\r\n",
        "\r\n",
        "    # Generate Livertxt\r\n",
        "    if not os.path.exists(\"data/\"+save_folder+'TumorPixels'):\r\n",
        "        os.mkdir(\"data/\"+save_folder+'TumorPixels')\r\n",
        "\r\n",
        "    for i in range(0,28):\r\n",
        "        livertumor, header = load(image_path+'segmentation-'+str(i)+'.nii')\r\n",
        "        f = open(\"data/\"+save_folder+\"/TumorPixels/tumor_\"+str(i)+'.txt','w')\r\n",
        "        index = np.where(livertumor==2)\r\n",
        "        print(i)\r\n",
        "        x = index[0]\r\n",
        "        y = index[1]\r\n",
        "        z = index[2]\r\n",
        "\r\n",
        "        np.savetxt(f,np.c_[x,y,z],fmt=\"%d\")\r\n",
        "\r\n",
        "        f.write(\"\\n\")\r\n",
        "        f.close()\r\n",
        "def generate_txt(image_path, save_folder):\r\n",
        "    if not os.path.exists(\"data/\"+save_folder):\r\n",
        "        os.mkdir(\"data/\"+save_folder)\r\n",
        "\r\n",
        "    # Generate Livertxt\r\n",
        "    if not os.path.exists(\"data/\"+save_folder+'LiverBox'):\r\n",
        "        os.mkdir(\"data/\"+save_folder+'LiverBox')\r\n",
        "    for i in range(0,28):\r\n",
        "        print(i)\r\n",
        "        values = np.loadtxt('data/myTrainingDataTxt/LiverPixels/liver_' + str(i) + '.txt', delimiter=' ', usecols=[0, 1, 2])\r\n",
        "        a = np.min(values, axis=0)\r\n",
        "        b = np.max(values, axis=0)\r\n",
        "        box = np.append(a,b, axis=0)\r\n",
        "        np.savetxt('data/myTrainingDataTxt/LiverBox/box_'+str(i)+'.txt', box,fmt='%d')"
      ],
      "execution_count": 4,
      "outputs": []
    },
    {
      "cell_type": "code",
      "metadata": {
        "colab": {
          "base_uri": "https://localhost:8080/"
        },
        "id": "C-d8b8Trc0MY",
        "outputId": "20ce4994-9da2-45f0-ae44-fa2b0c1ea5d9"
      },
      "source": [
        "\r\n",
        "\r\n",
        "proprecessing(image_path='/content/media/nas/01_Datasets/CT/LITS/Training Batch 1/', save_folder='myTrainingData/')\r\n",
        "# proprecessing(image_path='data/TestData/', save_folder='myTestData/')\r\n",
        "print (\"Generate liver txt \")\r\n",
        "generate_livertxt(image_path='/content/media/nas/01_Datasets/CT/LITS/Training Batch 1/', save_folder='myTrainingDataTxt/')\r\n",
        "print (\"Generate tumor txt\")\r\n",
        "generate_tumortxt(image_path='/content/media/nas/01_Datasets/CT/LITS/Training Batch 1/', save_folder='myTrainingDataTxt/')\r\n",
        "print (\"Generate liver box \")\r\n",
        "generate_txt(image_path='/content/media/nas/01_Datasets/CT/LITS/Training Batch 1/', save_folder='myTrainingDataTxt/')"
      ],
      "execution_count": 5,
      "outputs": [
        {
          "output_type": "stream",
          "text": [
            "Saving image volume-21.nii\n",
            "Saving image volume-6.nii\n",
            "Saving image volume-11.nii\n",
            "Saving image volume-2.nii\n",
            "Saving image volume-4.nii\n",
            "Saving image volume-5.nii\n",
            "Saving image volume-13.nii\n",
            "Saving image volume-17.nii\n",
            "Saving image volume-26.nii\n",
            "Saving image volume-10.nii\n",
            "Saving image volume-7.nii\n",
            "Saving image volume-20.nii\n",
            "Saving image volume-25.nii\n",
            "Saving image volume-0.nii\n",
            "Saving image volume-27.nii\n",
            "Saving image volume-24.nii\n",
            "Saving image volume-15.nii\n",
            "Saving image volume-14.nii\n",
            "Saving image volume-8.nii\n",
            "Saving image volume-22.nii\n",
            "Saving image volume-1.nii\n",
            "Saving image volume-19.nii\n",
            "Saving image volume-9.nii\n",
            "Saving image volume-3.nii\n",
            "Saving image volume-23.nii\n",
            "Saving image volume-18.nii\n",
            "Saving image volume-12.nii\n",
            "Saving image volume-16.nii\n",
            "Generate liver txt \n",
            "0\n",
            "1\n",
            "2\n",
            "3\n",
            "4\n",
            "5\n",
            "6\n",
            "7\n",
            "8\n",
            "9\n",
            "10\n",
            "11\n",
            "12\n",
            "13\n",
            "14\n",
            "15\n",
            "16\n",
            "17\n",
            "18\n",
            "19\n",
            "20\n",
            "21\n",
            "22\n",
            "23\n",
            "24\n",
            "25\n",
            "26\n",
            "27\n",
            "Generate tumor txt\n",
            "0\n",
            "1\n",
            "2\n",
            "3\n",
            "4\n",
            "5\n",
            "6\n",
            "7\n",
            "8\n",
            "9\n",
            "10\n",
            "11\n",
            "12\n",
            "13\n",
            "14\n",
            "15\n",
            "16\n",
            "17\n",
            "18\n",
            "19\n",
            "20\n",
            "21\n",
            "22\n",
            "23\n",
            "24\n",
            "25\n",
            "26\n",
            "27\n",
            "Generate liver box \n",
            "0\n",
            "1\n",
            "2\n",
            "3\n",
            "4\n",
            "5\n",
            "6\n",
            "7\n",
            "8\n",
            "9\n",
            "10\n",
            "11\n",
            "12\n",
            "13\n",
            "14\n",
            "15\n",
            "16\n",
            "17\n",
            "18\n",
            "19\n",
            "20\n",
            "21\n",
            "22\n",
            "23\n",
            "24\n",
            "25\n",
            "26\n",
            "27\n"
          ],
          "name": "stdout"
        }
      ]
    }
  ]
}