{
  "nbformat": 4,
  "nbformat_minor": 0,
  "metadata": {
    "colab": {
      "name": "batch_lr.ipynb",
      "provenance": [],
      "authorship_tag": "ABX9TyM65zGwtW0MrLId9sRswBNE",
      "include_colab_link": true
    },
    "kernelspec": {
      "name": "python3",
      "display_name": "Python 3"
    },
    "language_info": {
      "name": "python"
    }
  },
  "cells": [
    {
      "cell_type": "markdown",
      "metadata": {
        "id": "view-in-github",
        "colab_type": "text"
      },
      "source": [
        "<a href=\"https://colab.research.google.com/github/greyhound101/segmentation/blob/master/batch_lr.ipynb\" target=\"_parent\"><img src=\"https://colab.research.google.com/assets/colab-badge.svg\" alt=\"Open In Colab\"/></a>"
      ]
    },
    {
      "cell_type": "code",
      "metadata": {
        "id": "DLrJXSlD3nRI"
      },
      "source": [
        "from tensorflow import keras\n",
        "import tensorflow as tf\n",
        "class CustomCallback(keras.callbacks.Callback):\n",
        "\n",
        "    def on_train_batch_end(self, batch, logs=None):\n",
        "        lr = float(tf.keras.backend.get_value(self.model.optimizer.learning_rate))\n",
        "        cng = batch/605\n",
        "        cng = 1-cng\n",
        "        lr = lr * (cng)\n",
        "        tf.keras.backend.set_value(self.model.optimizer.lr, lr)\n",
        "        print(float(tf.keras.backend.get_value(self.model.optimizer.learning_rate)))\n",
        "\n",
        "cll=CustomCallback()\n",
        "hist=model.fit_generator(train_data,epochs=1,steps_per_epoch=ln//4,verbose=1,callbacks=[cll])"
      ],
      "execution_count": null,
      "outputs": []
    }
  ]
}