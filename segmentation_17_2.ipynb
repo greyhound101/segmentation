{
  "nbformat": 4,
  "nbformat_minor": 0,
  "metadata": {
    "colab": {
      "name": "segmentation_17_2.ipynb",
      "provenance": [],
      "machine_shape": "hm",
      "include_colab_link": true
    },
    "kernelspec": {
      "name": "python3",
      "display_name": "Python 3"
    },
    "accelerator": "GPU"
  },
  "cells": [
    {
      "cell_type": "markdown",
      "metadata": {
        "id": "view-in-github",
        "colab_type": "text"
      },
      "source": [
        "<a href=\"https://colab.research.google.com/github/greyhound101/segmentation/blob/master/segmentation_17_2.ipynb\" target=\"_parent\"><img src=\"https://colab.research.google.com/assets/colab-badge.svg\" alt=\"Open In Colab\"/></a>"
      ]
    },
    {
      "cell_type": "code",
      "metadata": {
        "id": "eQqlrXIJej1l",
        "colab": {
          "base_uri": "https://localhost:8080/"
        },
        "outputId": "e07a9739-dd22-4245-9636-674c2206bf1d"
      },
      "source": [
        "from google.colab import drive\n",
        "drive.mount('/content/gdrive')\n",
        "drive.mount(\"/content/gdrive\", force_remount=True)"
      ],
      "execution_count": 1,
      "outputs": [
        {
          "output_type": "stream",
          "text": [
            "Mounted at /content/gdrive\n",
            "Mounted at /content/gdrive\n"
          ],
          "name": "stdout"
        }
      ]
    },
    {
      "cell_type": "code",
      "metadata": {
        "id": "KL9dz2G-1_XK"
      },
      "source": [
        "import zipfile\r\n",
        "with zipfile.ZipFile('/content/gdrive/My Drive/segmentation/Training_Batch1.zip', 'r') as zip_ref:\r\n",
        "    zip_ref.extractall('/content/')"
      ],
      "execution_count": 2,
      "outputs": []
    },
    {
      "cell_type": "code",
      "metadata": {
        "colab": {
          "base_uri": "https://localhost:8080/"
        },
        "id": "Uy8xTKS11qul",
        "outputId": "2be1cb2b-0676-43f3-c1cd-5d878636638a"
      },
      "source": [
        "!git clone https://github.com/xmengli999/H-DenseUNet"
      ],
      "execution_count": 3,
      "outputs": [
        {
          "output_type": "stream",
          "text": [
            "Cloning into 'H-DenseUNet'...\n",
            "remote: Enumerating objects: 9, done.\u001b[K\n",
            "remote: Counting objects: 100% (9/9), done.\u001b[K\n",
            "remote: Compressing objects: 100% (9/9), done.\u001b[K\n",
            "remote: Total 706 (delta 5), reused 0 (delta 0), pack-reused 697\u001b[K\n",
            "Receiving objects: 100% (706/706), 13.77 MiB | 17.85 MiB/s, done.\n",
            "Resolving deltas: 100% (241/241), done.\n"
          ],
          "name": "stdout"
        }
      ]
    },
    {
      "cell_type": "code",
      "metadata": {
        "id": "pP89wppHn3kd",
        "colab": {
          "base_uri": "https://localhost:8080/"
        },
        "outputId": "3cb48f3f-92f6-4ed7-b69a-a7f8452b8a22"
      },
      "source": [
        "from zipfile import ZipFile\r\n",
        "import subprocess, sys\r\n",
        "\r\n",
        "def Unzip(zipFile, destinationDirectory):\r\n",
        "    try:\r\n",
        "        with ZipFile(zipFile, 'r') as zipObj:\r\n",
        "            # Extract all the contents of zip file in different directory\r\n",
        "            zipObj.extractall(destinationDirectory)\r\n",
        "    except:\r\n",
        "        print(\"An exception occurred extracting with Python ZipFile library.\")\r\n",
        "        print(\"Attempting to extract using 7zip\")\r\n",
        "        subprocess.Popen([\"7z\", \"e\", f\"{zipFile}\", f\"-o{destinationDirectory}\", \"-y\"])\r\n",
        "Unzip('/content/gdrive/My Drive/segmentation/test.zip', '/content/')"
      ],
      "execution_count": 4,
      "outputs": [
        {
          "output_type": "stream",
          "text": [
            "An exception occurred extracting with Python ZipFile library.\n",
            "Attempting to extract using 7zip\n"
          ],
          "name": "stdout"
        }
      ]
    },
    {
      "cell_type": "code",
      "metadata": {
        "id": "yxOpaOhbtdZL"
      },
      "source": [
        "import os\r\n",
        "import glob\r\n",
        "for i in range(5,70):\r\n",
        "    os.remove('/content/test-volume-'+str(i)+'.nii')\r\n",
        "  "
      ],
      "execution_count": 10,
      "outputs": []
    },
    {
      "cell_type": "code",
      "metadata": {
        "id": "GP1v8WfYgemh"
      },
      "source": [
        "import os\r\n",
        "os.mkdir('/content/H-DenseUNet/data')\r\n",
        "os.mkdir('/content/H-DenseUNet/data/TrainingData')\r\n",
        "os.mkdir('/content/H-DenseUNet/data/TestData')"
      ],
      "execution_count": 6,
      "outputs": []
    },
    {
      "cell_type": "code",
      "metadata": {
        "id": "E0P_W5uGgLP5"
      },
      "source": [
        "import shutil\r\n",
        "import glob\r\n",
        "for path in glob.glob('/content/media/nas/01_Datasets/CT/LITS/Training Batch 1/segmentation-*.nii'):\r\n",
        "  shutil.move(path,'/content/H-DenseUNet/data/TrainingData')"
      ],
      "execution_count": 7,
      "outputs": []
    },
    {
      "cell_type": "code",
      "metadata": {
        "id": "QpWL3I1myxEp"
      },
      "source": [
        "\r\n",
        "for path in glob.glob('/content/H-DenseUNet/data/TrainingData/segmentation*'):\r\n",
        "  shutil.move(path,'/content/H-DenseUNet/data/myTrainingData')"
      ],
      "execution_count": 21,
      "outputs": []
    },
    {
      "cell_type": "code",
      "metadata": {
        "id": "YXEh0aMWwd_I"
      },
      "source": [
        "\r\n",
        "for path in glob.glob('/content/media/nas/01_Datasets/CT/LITS/Training Batch 1/volume-*.nii'):\r\n",
        "  shutil.move(path,'/content/H-DenseUNet/data/TrainingData')"
      ],
      "execution_count": 8,
      "outputs": []
    },
    {
      "cell_type": "code",
      "metadata": {
        "id": "wtHSSdnGuwcy"
      },
      "source": [
        "for path in glob.glob('/content/test-volume-*.nii'):\r\n",
        "  shutil.move(path,'/content/H-DenseUNet/data/TestData')"
      ],
      "execution_count": 11,
      "outputs": []
    },
    {
      "cell_type": "code",
      "metadata": {
        "id": "v3myGvgZwCLB"
      },
      "source": [
        "\r\n",
        "for i in range(5,28):\r\n",
        "    os.remove( '/content/H-DenseUNet/data/TrainingData/segmentation-'+str(i)+'.nii')\r\n",
        "    os.remove( '/content/H-DenseUNet/data/TrainingData/volume-'+str(i)+'.nii')"
      ],
      "execution_count": 9,
      "outputs": []
    },
    {
      "cell_type": "code",
      "metadata": {
        "colab": {
          "base_uri": "https://localhost:8080/"
        },
        "id": "XXtx521dgueS",
        "outputId": "858a5282-fdec-4393-c0af-0d378dbce935"
      },
      "source": [
        "cd /content/H-DenseUNet"
      ],
      "execution_count": 2,
      "outputs": [
        {
          "output_type": "stream",
          "text": [
            "/content/H-DenseUNet\n"
          ],
          "name": "stdout"
        }
      ]
    },
    {
      "cell_type": "code",
      "metadata": {
        "colab": {
          "base_uri": "https://localhost:8080/"
        },
        "id": "LEyeCBjv6wpR",
        "outputId": "fb781920-3333-4224-9320-c0651de82728"
      },
      "source": [
        "pip install -r requirements.txt"
      ],
      "execution_count": 13,
      "outputs": [
        {
          "output_type": "stream",
          "text": [
            "Collecting absl-py==0.1.10\n",
            "\u001b[?25l  Downloading https://files.pythonhosted.org/packages/5f/b8/3dafc45f20a817ab9f042302646bcbe6f7e26e8a760871a85637e53a35ec/absl-py-0.1.10.tar.gz (79kB)\n",
            "\r\u001b[K     |████                            | 10kB 24.7MB/s eta 0:00:01\r\u001b[K     |████████▏                       | 20kB 24.7MB/s eta 0:00:01\r\u001b[K     |████████████▎                   | 30kB 12.0MB/s eta 0:00:01\r\u001b[K     |████████████████▍               | 40kB 9.7MB/s eta 0:00:01\r\u001b[K     |████████████████████▌           | 51kB 7.4MB/s eta 0:00:01\r\u001b[K     |████████████████████████▋       | 61kB 7.5MB/s eta 0:00:01\r\u001b[K     |████████████████████████████▊   | 71kB 8.6MB/s eta 0:00:01\r\u001b[K     |████████████████████████████████| 81kB 5.4MB/s \n",
            "\u001b[?25hCollecting backports-abc==0.5\n",
            "  Downloading https://files.pythonhosted.org/packages/7d/56/6f3ac1b816d0cd8994e83d0c4e55bc64567532f7dc543378bd87f81cebc7/backports_abc-0.5-py2.py3-none-any.whl\n",
            "Collecting backports.functools-lru-cache==1.5\n",
            "  Downloading https://files.pythonhosted.org/packages/03/8e/2424c0e65c4a066e28f539364deee49b6451f8fcd4f718fefa50cc3dcf48/backports.functools_lru_cache-1.5-py2.py3-none-any.whl\n",
            "Collecting backports.weakref==1.0rc1\n",
            "  Downloading https://files.pythonhosted.org/packages/6a/f7/ae34b6818b603e264f26fe7db2bd07850ce331ce2fde74b266d61f4a2d87/backports.weakref-1.0rc1-py3-none-any.whl\n",
            "Collecting bleach==1.5.0\n",
            "  Downloading https://files.pythonhosted.org/packages/33/70/86c5fec937ea4964184d4d6c4f0b9551564f821e1c3575907639036d9b90/bleach-1.5.0-py2.py3-none-any.whl\n",
            "Collecting bokeh==0.12.15\n",
            "\u001b[?25l  Downloading https://files.pythonhosted.org/packages/ad/67/82f17df7d1f4b9e81c9263c1a1dc3897c43cf5a9461872f9054517331f77/bokeh-0.12.15.tar.gz (13.6MB)\n",
            "\u001b[K     |████████████████████████████████| 13.6MB 251kB/s \n",
            "\u001b[?25hCollecting certifi==2018.1.18\n",
            "\u001b[?25l  Downloading https://files.pythonhosted.org/packages/fa/53/0a5562e2b96749e99a3d55d8c7df91c9e4d8c39a9da1f1a49ac9e4f4b39f/certifi-2018.1.18-py2.py3-none-any.whl (151kB)\n",
            "\u001b[K     |████████████████████████████████| 153kB 54.6MB/s \n",
            "\u001b[?25hCollecting cffi==1.11.5\n",
            "\u001b[?25l  Downloading https://files.pythonhosted.org/packages/6d/c0/47db8f624f3e4e2f3f27be03a93379d1ba16a1450a7b1aacfa0366e2c0dd/cffi-1.11.5-cp36-cp36m-manylinux1_x86_64.whl (421kB)\n",
            "\u001b[K     |████████████████████████████████| 430kB 76.5MB/s \n",
            "\u001b[?25hRequirement already satisfied: chardet==3.0.4 in /usr/local/lib/python3.6/dist-packages (from -r requirements.txt (line 9)) (3.0.4)\n",
            "Collecting click==6.7\n",
            "\u001b[?25l  Downloading https://files.pythonhosted.org/packages/34/c1/8806f99713ddb993c5366c362b2f908f18269f8d792aff1abfd700775a77/click-6.7-py2.py3-none-any.whl (71kB)\n",
            "\u001b[K     |████████████████████████████████| 71kB 10.0MB/s \n",
            "\u001b[?25hCollecting cloudpickle==0.5.2\n",
            "  Downloading https://files.pythonhosted.org/packages/aa/18/514b557c4d8d4ada1f0454ad06c845454ad438fd5c5e0039ba51d6b032fe/cloudpickle-0.5.2-py2.py3-none-any.whl\n",
            "Requirement already satisfied: cycler==0.10.0 in /usr/local/lib/python3.6/dist-packages (from -r requirements.txt (line 12)) (0.10.0)\n",
            "Collecting cytoolz==0.9.0.1\n",
            "\u001b[?25l  Downloading https://files.pythonhosted.org/packages/36/f4/9728ba01ccb2f55df9a5af029b48ba0aaca1081bbd7823ea2ee223ba7a42/cytoolz-0.9.0.1.tar.gz (443kB)\n",
            "\u001b[K     |████████████████████████████████| 450kB 66.4MB/s \n",
            "\u001b[?25hCollecting dask==0.17.2\n",
            "\u001b[?25l  Downloading https://files.pythonhosted.org/packages/1d/f1/700c604af030d9b256a6590adf56cadd174c30c8ac6f555daf0e3023d294/dask-0.17.2-py2.py3-none-any.whl (582kB)\n",
            "\u001b[K     |████████████████████████████████| 583kB 63.5MB/s \n",
            "\u001b[?25hCollecting decorator==4.3.0\n",
            "  Downloading https://files.pythonhosted.org/packages/bc/bb/a24838832ba35baf52f32ab1a49b906b5f82fb7c76b2f6a7e35e140bac30/decorator-4.3.0-py2.py3-none-any.whl\n",
            "Collecting distributed==1.21.6\n",
            "\u001b[?25l  Downloading https://files.pythonhosted.org/packages/39/e8/7453e61bbee910aa91936743d6782a2108c28d9945f5f61cf801b485b5fa/distributed-1.21.6-py2.py3-none-any.whl (458kB)\n",
            "\u001b[K     |████████████████████████████████| 460kB 57.0MB/s \n",
            "\u001b[?25hCollecting dominate==2.3.1\n",
            "  Downloading https://files.pythonhosted.org/packages/43/b2/3b7d67dd59dab93ae08569384b254323516e8868b453eea5614a53835baf/dominate-2.3.1.tar.gz\n",
            "Collecting easydict==1.4\n",
            "  Downloading https://files.pythonhosted.org/packages/77/a1/dfe10522accfc2f6f27bee6144ac20f4852d6d177ec9dce1152b989d5228/easydict-1.4.tar.gz\n",
            "Collecting enum34==1.1.6\n",
            "  Downloading https://files.pythonhosted.org/packages/af/42/cb9355df32c69b553e72a2e28daee25d1611d2c0d9c272aa1d34204205b2/enum34-1.1.6-py3-none-any.whl\n",
            "Collecting funcsigs==1.0.2\n",
            "  Downloading https://files.pythonhosted.org/packages/69/cb/f5be453359271714c01b9bd06126eaf2e368f1fddfff30818754b5ac2328/funcsigs-1.0.2-py2.py3-none-any.whl\n",
            "Collecting functools32==3.2.3.post2\n",
            "  Downloading https://files.pythonhosted.org/packages/c5/60/6ac26ad05857c601308d8fb9e87fa36d0ebf889423f47c3502ef034365db/functools32-3.2.3-2.tar.gz\n",
            "\u001b[31mERROR: Command errored out with exit status 1: python setup.py egg_info Check the logs for full command output.\u001b[0m\n"
          ],
          "name": "stdout"
        }
      ]
    },
    {
      "cell_type": "code",
      "metadata": {
        "colab": {
          "base_uri": "https://localhost:8080/"
        },
        "id": "OcOKO0S_hNWI",
        "outputId": "2cb26227-d7ff-4dad-f02c-23e3f0506031"
      },
      "source": [
        "pip install medpy"
      ],
      "execution_count": 14,
      "outputs": [
        {
          "output_type": "stream",
          "text": [
            "Collecting medpy\n",
            "\u001b[?25l  Downloading https://files.pythonhosted.org/packages/3b/70/c1fd5dd60242eee81774696ea7ba4caafac2bad8f028bba94b1af83777d7/MedPy-0.4.0.tar.gz (151kB)\n",
            "\u001b[K     |████████████████████████████████| 153kB 8.4MB/s \n",
            "\u001b[?25hRequirement already satisfied: scipy>=1.1.0 in /usr/local/lib/python3.6/dist-packages (from medpy) (1.4.1)\n",
            "Requirement already satisfied: numpy>=1.11.0 in /usr/local/lib/python3.6/dist-packages (from medpy) (1.19.5)\n",
            "Collecting SimpleITK>=1.1.0\n",
            "\u001b[?25l  Downloading https://files.pythonhosted.org/packages/cc/85/6a7ce61f07cdaca722dd64f028b5678fb0a9e1bf66f534c2f8dd2eb78490/SimpleITK-2.0.2-cp36-cp36m-manylinux2010_x86_64.whl (47.4MB)\n",
            "\u001b[K     |████████████████████████████████| 47.4MB 63kB/s \n",
            "\u001b[?25hBuilding wheels for collected packages: medpy\n",
            "  Building wheel for medpy (setup.py) ... \u001b[?25l\u001b[?25hdone\n",
            "  Created wheel for medpy: filename=MedPy-0.4.0-cp36-cp36m-linux_x86_64.whl size=753444 sha256=e59e83f9a0ce3f5d7b990b5fd7ce3ac7d086c3867735bdf3ffc459c820890b64\n",
            "  Stored in directory: /root/.cache/pip/wheels/8c/c9/9c/2c6281c7a72b9fb1570862a4f028af7ce38405008354fbf870\n",
            "Successfully built medpy\n",
            "Installing collected packages: SimpleITK, medpy\n",
            "Successfully installed SimpleITK-2.0.2 medpy-0.4.0\n"
          ],
          "name": "stdout"
        }
      ]
    },
    {
      "cell_type": "code",
      "metadata": {
        "colab": {
          "base_uri": "https://localhost:8080/"
        },
        "id": "zJ0b8gKy0w3Q",
        "outputId": "b2e6f3a0-c576-4f07-cf5b-408e3e8bcb38"
      },
      "source": [
        "pip install tensorflow==1.13.1 "
      ],
      "execution_count": 15,
      "outputs": [
        {
          "output_type": "stream",
          "text": [
            "Collecting tensorflow==1.13.1\n",
            "\u001b[?25l  Downloading https://files.pythonhosted.org/packages/77/63/a9fa76de8dffe7455304c4ed635be4aa9c0bacef6e0633d87d5f54530c5c/tensorflow-1.13.1-cp36-cp36m-manylinux1_x86_64.whl (92.5MB)\n",
            "\u001b[K     |████████████████████████████████| 92.5MB 33kB/s \n",
            "\u001b[?25hCollecting keras-applications>=1.0.6\n",
            "\u001b[?25l  Downloading https://files.pythonhosted.org/packages/71/e3/19762fdfc62877ae9102edf6342d71b28fbfd9dea3d2f96a882ce099b03f/Keras_Applications-1.0.8-py3-none-any.whl (50kB)\n",
            "\u001b[K     |████████████████████████████████| 51kB 7.1MB/s \n",
            "\u001b[?25hRequirement already satisfied: gast>=0.2.0 in /usr/local/lib/python3.6/dist-packages (from tensorflow==1.13.1) (0.3.3)\n",
            "Collecting tensorboard<1.14.0,>=1.13.0\n",
            "\u001b[?25l  Downloading https://files.pythonhosted.org/packages/0f/39/bdd75b08a6fba41f098b6cb091b9e8c7a80e1b4d679a581a0ccd17b10373/tensorboard-1.13.1-py3-none-any.whl (3.2MB)\n",
            "\u001b[K     |████████████████████████████████| 3.2MB 63.3MB/s \n",
            "\u001b[?25hRequirement already satisfied: keras-preprocessing>=1.0.5 in /usr/local/lib/python3.6/dist-packages (from tensorflow==1.13.1) (1.1.2)\n",
            "Requirement already satisfied: grpcio>=1.8.6 in /usr/local/lib/python3.6/dist-packages (from tensorflow==1.13.1) (1.32.0)\n",
            "Requirement already satisfied: termcolor>=1.1.0 in /usr/local/lib/python3.6/dist-packages (from tensorflow==1.13.1) (1.1.0)\n",
            "Requirement already satisfied: wheel>=0.26 in /usr/local/lib/python3.6/dist-packages (from tensorflow==1.13.1) (0.36.2)\n",
            "Collecting tensorflow-estimator<1.14.0rc0,>=1.13.0\n",
            "\u001b[?25l  Downloading https://files.pythonhosted.org/packages/bb/48/13f49fc3fa0fdf916aa1419013bb8f2ad09674c275b4046d5ee669a46873/tensorflow_estimator-1.13.0-py2.py3-none-any.whl (367kB)\n",
            "\u001b[K     |████████████████████████████████| 368kB 50.0MB/s \n",
            "\u001b[?25hRequirement already satisfied: numpy>=1.13.3 in /usr/local/lib/python3.6/dist-packages (from tensorflow==1.13.1) (1.19.5)\n",
            "Requirement already satisfied: six>=1.10.0 in /usr/local/lib/python3.6/dist-packages (from tensorflow==1.13.1) (1.15.0)\n",
            "Requirement already satisfied: astor>=0.6.0 in /usr/local/lib/python3.6/dist-packages (from tensorflow==1.13.1) (0.8.1)\n",
            "Requirement already satisfied: absl-py>=0.1.6 in /usr/local/lib/python3.6/dist-packages (from tensorflow==1.13.1) (0.10.0)\n",
            "Requirement already satisfied: protobuf>=3.6.1 in /usr/local/lib/python3.6/dist-packages (from tensorflow==1.13.1) (3.12.4)\n",
            "Requirement already satisfied: h5py in /usr/local/lib/python3.6/dist-packages (from keras-applications>=1.0.6->tensorflow==1.13.1) (2.10.0)\n",
            "Requirement already satisfied: werkzeug>=0.11.15 in /usr/local/lib/python3.6/dist-packages (from tensorboard<1.14.0,>=1.13.0->tensorflow==1.13.1) (1.0.1)\n",
            "Requirement already satisfied: markdown>=2.6.8 in /usr/local/lib/python3.6/dist-packages (from tensorboard<1.14.0,>=1.13.0->tensorflow==1.13.1) (3.3.3)\n",
            "Collecting mock>=2.0.0\n",
            "  Downloading https://files.pythonhosted.org/packages/5c/03/b7e605db4a57c0f6fba744b11ef3ddf4ddebcada35022927a2b5fc623fdf/mock-4.0.3-py3-none-any.whl\n",
            "Requirement already satisfied: setuptools in /usr/local/lib/python3.6/dist-packages (from protobuf>=3.6.1->tensorflow==1.13.1) (53.0.0)\n",
            "Requirement already satisfied: importlib-metadata; python_version < \"3.8\" in /usr/local/lib/python3.6/dist-packages (from markdown>=2.6.8->tensorboard<1.14.0,>=1.13.0->tensorflow==1.13.1) (3.4.0)\n",
            "Requirement already satisfied: typing-extensions>=3.6.4; python_version < \"3.8\" in /usr/local/lib/python3.6/dist-packages (from importlib-metadata; python_version < \"3.8\"->markdown>=2.6.8->tensorboard<1.14.0,>=1.13.0->tensorflow==1.13.1) (3.7.4.3)\n",
            "Requirement already satisfied: zipp>=0.5 in /usr/local/lib/python3.6/dist-packages (from importlib-metadata; python_version < \"3.8\"->markdown>=2.6.8->tensorboard<1.14.0,>=1.13.0->tensorflow==1.13.1) (3.4.0)\n",
            "Installing collected packages: keras-applications, tensorboard, mock, tensorflow-estimator, tensorflow\n",
            "  Found existing installation: tensorboard 2.4.1\n",
            "    Uninstalling tensorboard-2.4.1:\n",
            "      Successfully uninstalled tensorboard-2.4.1\n",
            "  Found existing installation: tensorflow-estimator 2.4.0\n",
            "    Uninstalling tensorflow-estimator-2.4.0:\n",
            "      Successfully uninstalled tensorflow-estimator-2.4.0\n",
            "  Found existing installation: tensorflow 2.4.1\n",
            "    Uninstalling tensorflow-2.4.1:\n",
            "      Successfully uninstalled tensorflow-2.4.1\n",
            "Successfully installed keras-applications-1.0.8 mock-4.0.3 tensorboard-1.13.1 tensorflow-1.13.1 tensorflow-estimator-1.13.0\n"
          ],
          "name": "stdout"
        }
      ]
    },
    {
      "cell_type": "code",
      "metadata": {
        "colab": {
          "base_uri": "https://localhost:8080/"
        },
        "id": "VCiNOYOR0yRi",
        "outputId": "4e5919c0-55ad-461a-b823-63c6e1cdde0d"
      },
      "source": [
        "pip install keras==2.2.4"
      ],
      "execution_count": 16,
      "outputs": [
        {
          "output_type": "stream",
          "text": [
            "Collecting keras==2.2.4\n",
            "\u001b[?25l  Downloading https://files.pythonhosted.org/packages/5e/10/aa32dad071ce52b5502266b5c659451cfd6ffcbf14e6c8c4f16c0ff5aaab/Keras-2.2.4-py2.py3-none-any.whl (312kB)\n",
            "\r\u001b[K     |█                               | 10kB 20.5MB/s eta 0:00:01\r\u001b[K     |██                              | 20kB 17.1MB/s eta 0:00:01\r\u001b[K     |███▏                            | 30kB 14.1MB/s eta 0:00:01\r\u001b[K     |████▏                           | 40kB 12.7MB/s eta 0:00:01\r\u001b[K     |█████▎                          | 51kB 9.7MB/s eta 0:00:01\r\u001b[K     |██████▎                         | 61kB 10.4MB/s eta 0:00:01\r\u001b[K     |███████▍                        | 71kB 10.0MB/s eta 0:00:01\r\u001b[K     |████████▍                       | 81kB 10.2MB/s eta 0:00:01\r\u001b[K     |█████████▍                      | 92kB 10.2MB/s eta 0:00:01\r\u001b[K     |██████████▌                     | 102kB 9.2MB/s eta 0:00:01\r\u001b[K     |███████████▌                    | 112kB 9.2MB/s eta 0:00:01\r\u001b[K     |████████████▋                   | 122kB 9.2MB/s eta 0:00:01\r\u001b[K     |█████████████▋                  | 133kB 9.2MB/s eta 0:00:01\r\u001b[K     |██████████████▊                 | 143kB 9.2MB/s eta 0:00:01\r\u001b[K     |███████████████▊                | 153kB 9.2MB/s eta 0:00:01\r\u001b[K     |████████████████▊               | 163kB 9.2MB/s eta 0:00:01\r\u001b[K     |█████████████████▉              | 174kB 9.2MB/s eta 0:00:01\r\u001b[K     |██████████████████▉             | 184kB 9.2MB/s eta 0:00:01\r\u001b[K     |████████████████████            | 194kB 9.2MB/s eta 0:00:01\r\u001b[K     |█████████████████████           | 204kB 9.2MB/s eta 0:00:01\r\u001b[K     |██████████████████████          | 215kB 9.2MB/s eta 0:00:01\r\u001b[K     |███████████████████████         | 225kB 9.2MB/s eta 0:00:01\r\u001b[K     |████████████████████████▏       | 235kB 9.2MB/s eta 0:00:01\r\u001b[K     |█████████████████████████▏      | 245kB 9.2MB/s eta 0:00:01\r\u001b[K     |██████████████████████████▏     | 256kB 9.2MB/s eta 0:00:01\r\u001b[K     |███████████████████████████▎    | 266kB 9.2MB/s eta 0:00:01\r\u001b[K     |████████████████████████████▎   | 276kB 9.2MB/s eta 0:00:01\r\u001b[K     |█████████████████████████████▍  | 286kB 9.2MB/s eta 0:00:01\r\u001b[K     |██████████████████████████████▍ | 296kB 9.2MB/s eta 0:00:01\r\u001b[K     |███████████████████████████████▌| 307kB 9.2MB/s eta 0:00:01\r\u001b[K     |████████████████████████████████| 317kB 9.2MB/s \n",
            "\u001b[?25hRequirement already satisfied: h5py in /usr/local/lib/python3.6/dist-packages (from keras==2.2.4) (2.10.0)\n",
            "Requirement already satisfied: numpy>=1.9.1 in /usr/local/lib/python3.6/dist-packages (from keras==2.2.4) (1.19.5)\n",
            "Requirement already satisfied: keras-preprocessing>=1.0.5 in /usr/local/lib/python3.6/dist-packages (from keras==2.2.4) (1.1.2)\n",
            "Requirement already satisfied: six>=1.9.0 in /usr/local/lib/python3.6/dist-packages (from keras==2.2.4) (1.15.0)\n",
            "Requirement already satisfied: pyyaml in /usr/local/lib/python3.6/dist-packages (from keras==2.2.4) (3.13)\n",
            "Requirement already satisfied: keras-applications>=1.0.6 in /usr/local/lib/python3.6/dist-packages (from keras==2.2.4) (1.0.8)\n",
            "Requirement already satisfied: scipy>=0.14 in /usr/local/lib/python3.6/dist-packages (from keras==2.2.4) (1.4.1)\n",
            "Installing collected packages: keras\n",
            "  Found existing installation: Keras 2.4.3\n",
            "    Uninstalling Keras-2.4.3:\n",
            "      Successfully uninstalled Keras-2.4.3\n",
            "Successfully installed keras-2.2.4\n"
          ],
          "name": "stdout"
        }
      ]
    },
    {
      "cell_type": "code",
      "metadata": {
        "colab": {
          "base_uri": "https://localhost:8080/"
        },
        "id": "SWb5L9tG6vVA",
        "outputId": "49a00468-33ca-4328-dd05-55af924a9cb0"
      },
      "source": [
        "!python preprocessing.py "
      ],
      "execution_count": 17,
      "outputs": [
        {
          "output_type": "stream",
          "text": [
            "Saving image volume-4.nii\n",
            "Saving image volume-2.nii\n",
            "Saving image volume-0.nii\n",
            "Saving image volume-3.nii\n",
            "Saving image volume-1.nii\n",
            "Saving image test-volume-24.nii\n",
            "Saving image test-volume-21.nii\n",
            "Saving image test-volume-22.nii\n",
            "Saving image test-volume-23.nii\n",
            "Saving image test-volume-20.nii\n",
            "Generate liver txt \n",
            "Generate tumor txt\n",
            "Generate liver box \n"
          ],
          "name": "stdout"
        }
      ]
    },
    {
      "cell_type": "code",
      "metadata": {
        "colab": {
          "base_uri": "https://localhost:8080/",
          "height": 36
        },
        "id": "e1sq5zHr1xD8",
        "outputId": "026fd3eb-0256-4fdf-fe99-ea17c762ef85"
      },
      "source": [
        "from shutil import copyfile\r\n",
        "copyfile('/content/gdrive/My Drive/segmentation/model_best.hdf5','/content/H-DenseUNet/data/weights.hdf5')"
      ],
      "execution_count": 18,
      "outputs": [
        {
          "output_type": "execute_result",
          "data": {
            "application/vnd.google.colaboratory.intrinsic+json": {
              "type": "string"
            },
            "text/plain": [
              "'/content/H-DenseUNet/data/weights.hdf5'"
            ]
          },
          "metadata": {
            "tags": []
          },
          "execution_count": 18
        }
      ]
    },
    {
      "cell_type": "code",
      "metadata": {
        "colab": {
          "base_uri": "https://localhost:8080/"
        },
        "id": "4mr5RidIygGc",
        "outputId": "aad2e502-aa72-450b-bde5-53ad0800c04c"
      },
      "source": [
        "!sh bash_train.sh"
      ],
      "execution_count": 3,
      "outputs": [
        {
          "output_type": "stream",
          "text": [
            "Using TensorFlow backend.\n",
            "/usr/local/lib/python3.6/dist-packages/tensorflow/python/framework/dtypes.py:526: FutureWarning: Passing (type, 1) or '1type' as a synonym of type is deprecated; in a future version of numpy, it will be understood as (type, (1,)) / '(1,)type'.\n",
            "  _np_qint8 = np.dtype([(\"qint8\", np.int8, 1)])\n",
            "/usr/local/lib/python3.6/dist-packages/tensorflow/python/framework/dtypes.py:527: FutureWarning: Passing (type, 1) or '1type' as a synonym of type is deprecated; in a future version of numpy, it will be understood as (type, (1,)) / '(1,)type'.\n",
            "  _np_quint8 = np.dtype([(\"quint8\", np.uint8, 1)])\n",
            "/usr/local/lib/python3.6/dist-packages/tensorflow/python/framework/dtypes.py:528: FutureWarning: Passing (type, 1) or '1type' as a synonym of type is deprecated; in a future version of numpy, it will be understood as (type, (1,)) / '(1,)type'.\n",
            "  _np_qint16 = np.dtype([(\"qint16\", np.int16, 1)])\n",
            "/usr/local/lib/python3.6/dist-packages/tensorflow/python/framework/dtypes.py:529: FutureWarning: Passing (type, 1) or '1type' as a synonym of type is deprecated; in a future version of numpy, it will be understood as (type, (1,)) / '(1,)type'.\n",
            "  _np_quint16 = np.dtype([(\"quint16\", np.uint16, 1)])\n",
            "/usr/local/lib/python3.6/dist-packages/tensorflow/python/framework/dtypes.py:530: FutureWarning: Passing (type, 1) or '1type' as a synonym of type is deprecated; in a future version of numpy, it will be understood as (type, (1,)) / '(1,)type'.\n",
            "  _np_qint32 = np.dtype([(\"qint32\", np.int32, 1)])\n",
            "/usr/local/lib/python3.6/dist-packages/tensorflow/python/framework/dtypes.py:535: FutureWarning: Passing (type, 1) or '1type' as a synonym of type is deprecated; in a future version of numpy, it will be understood as (type, (1,)) / '(1,)type'.\n",
            "  np_resource = np.dtype([(\"resource\", np.ubyte, 1)])\n",
            "------------------------------\n",
            "Creating and compiling model...\n",
            "------------------------------\n",
            "WARNING:tensorflow:From /usr/local/lib/python3.6/dist-packages/tensorflow/python/framework/op_def_library.py:263: colocate_with (from tensorflow.python.framework.ops) is deprecated and will be removed in a future version.\n",
            "Instructions for updating:\n",
            "Colocations handled automatically by placer.\n",
            "2021-02-17 13:00:54.829340: I tensorflow/core/platform/cpu_feature_guard.cc:141] Your CPU supports instructions that this TensorFlow binary was not compiled to use: AVX2 FMA\n",
            "2021-02-17 13:00:54.832222: I tensorflow/core/platform/profile_utils/cpu_utils.cc:94] CPU Frequency: 2200000000 Hz\n",
            "2021-02-17 13:00:54.832517: I tensorflow/compiler/xla/service/service.cc:150] XLA service 0x15a6c60 executing computations on platform Host. Devices:\n",
            "2021-02-17 13:00:54.832563: I tensorflow/compiler/xla/service/service.cc:158]   StreamExecutor device (0): <undefined>, <undefined>\n",
            "WARNING:tensorflow:From /usr/local/lib/python3.6/dist-packages/keras/backend/tensorflow_backend.py:3445: calling dropout (from tensorflow.python.ops.nn_ops) with keep_prob is deprecated and will be removed in a future version.\n",
            "Instructions for updating:\n",
            "Please use `rate` instead of `keep_prob`. Rate should be set to `rate = 1 - keep_prob`.\n",
            "------------------------------\n",
            "Fitting model......\n",
            "------------------------------\n",
            "WARNING:tensorflow:From /usr/local/lib/python3.6/dist-packages/tensorflow/python/ops/array_grad.py:425: to_int32 (from tensorflow.python.ops.math_ops) is deprecated and will be removed in a future version.\n",
            "Instructions for updating:\n",
            "Use tf.cast instead.\n",
            "/usr/local/lib/python3.6/dist-packages/keras/engine/training_generator.py:47: UserWarning: Using a generator with `use_multiprocessing=True` and multiple workers may duplicate your data. Please consider using the`keras.utils.Sequence class.\n",
            "  UserWarning('Using a generator with `use_multiprocessing=True`'\n",
            "Epoch 1/10\n",
            "5/5 [==============================] - 45s 9s/step - loss: 3.7852\n",
            "\n",
            "Epoch 00001: saving model to /content/gdrive/My Drive/segmentation/model/weights.01-3.79.hdf5\n",
            "Epoch 2/10\n",
            "5/5 [==============================] - 18s 4s/step - loss: 2.7519\n",
            "\n",
            "Epoch 00002: saving model to /content/gdrive/My Drive/segmentation/model/weights.02-2.75.hdf5\n",
            "Epoch 3/10\n",
            "5/5 [==============================] - 20s 4s/step - loss: 1.6904\n",
            "\n",
            "Epoch 00003: saving model to /content/gdrive/My Drive/segmentation/model/weights.03-1.69.hdf5\n",
            "Epoch 4/10\n",
            "5/5 [==============================] - 21s 4s/step - loss: 1.1994\n",
            "\n",
            "Epoch 00004: saving model to /content/gdrive/My Drive/segmentation/model/weights.04-1.20.hdf5\n",
            "Epoch 5/10\n",
            "5/5 [==============================] - 18s 4s/step - loss: 1.0821\n",
            "\n",
            "Epoch 00005: saving model to /content/gdrive/My Drive/segmentation/model/weights.05-1.08.hdf5\n",
            "Epoch 6/10\n",
            "5/5 [==============================] - 19s 4s/step - loss: 0.8552\n",
            "\n",
            "Epoch 00006: saving model to /content/gdrive/My Drive/segmentation/model/weights.06-0.86.hdf5\n",
            "Epoch 7/10\n",
            "5/5 [==============================] - 17s 3s/step - loss: 0.8345\n",
            "\n",
            "Epoch 00007: saving model to /content/gdrive/My Drive/segmentation/model/weights.07-0.83.hdf5\n",
            "Epoch 8/10\n",
            "5/5 [==============================] - 18s 4s/step - loss: 0.5262\n",
            "\n",
            "Epoch 00008: saving model to /content/gdrive/My Drive/segmentation/model/weights.08-0.53.hdf5\n",
            "Epoch 9/10\n",
            "5/5 [==============================] - 18s 4s/step - loss: 0.6185\n",
            "\n",
            "Epoch 00009: saving model to /content/gdrive/My Drive/segmentation/model/weights.09-0.62.hdf5\n",
            "Epoch 10/10\n",
            "5/5 [==============================] - 20s 4s/step - loss: 0.2079\n",
            "\n",
            "Epoch 00010: saving model to /content/gdrive/My Drive/segmentation/model/weights.10-0.21.hdf5\n",
            "Finised Training .......\n"
          ],
          "name": "stdout"
        }
      ]
    },
    {
      "cell_type": "code",
      "metadata": {
        "colab": {
          "base_uri": "https://localhost:8080/",
          "height": 284
        },
        "id": "MhjnDOdq0w0G",
        "outputId": "be9bb336-ee07-4817-82c0-dd769f99fd95"
      },
      "source": [
        "import numpy as np\r\n",
        "from matplotlib import pyplot as plt\r\n",
        "a=np.load('history.npy')\r\n",
        "plt.plot(a)"
      ],
      "execution_count": 8,
      "outputs": [
        {
          "output_type": "execute_result",
          "data": {
            "text/plain": [
              "[<matplotlib.lines.Line2D at 0x7fee745639b0>]"
            ]
          },
          "metadata": {
            "tags": []
          },
          "execution_count": 8
        },
        {
          "output_type": "display_data",
          "data": {
            "image/png": "[encoded data removed]",
            "text/plain": [
              "<Figure size 432x288 with 1 Axes>"
            ]
          },
          "metadata": {
            "tags": [],
            "needs_background": "light"
          }
        }
      ]
    },
    {
      "cell_type": "code",
      "metadata": {
        "id": "mmNuoJiWHeM5"
      },
      "source": [
        ""
      ],
      "execution_count": null,
      "outputs": []
    }
  ]
}