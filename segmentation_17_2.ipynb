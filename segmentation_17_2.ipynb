{
  "nbformat": 4,
  "nbformat_minor": 0,
  "metadata": {
    "colab": {
      "name": "segmentation_17_2.ipynb",
      "provenance": [],
      "machine_shape": "hm",
      "include_colab_link": true
    },
    "kernelspec": {
      "name": "python3",
      "display_name": "Python 3"
    },
    "accelerator": "GPU"
  },
  "cells": [
    {
      "cell_type": "markdown",
      "metadata": {
        "id": "view-in-github",
        "colab_type": "text"
      },
      "source": [
        "<a href=\"https://colab.research.google.com/github/greyhound101/segmentation/blob/master/segmentation_17_2.ipynb\" target=\"_parent\"><img src=\"https://colab.research.google.com/assets/colab-badge.svg\" alt=\"Open In Colab\"/></a>"
      ]
    },
    {
      "cell_type": "code",
      "metadata": {
        "id": "eQqlrXIJej1l",
        "colab": {
          "base_uri": "https://localhost:8080/"
        },
        "outputId": "016eb26b-094b-4113-ecfd-dc8904f01d06"
      },
      "source": [
        "from google.colab import drive\n",
        "drive.mount('/content/gdrive')\n",
        "drive.mount(\"/content/gdrive\", force_remount=True)"
      ],
      "execution_count": 1,
      "outputs": [
        {
          "output_type": "stream",
          "text": [
            "Mounted at /content/gdrive\n",
            "Mounted at /content/gdrive\n"
          ],
          "name": "stdout"
        }
      ]
    },
    {
      "cell_type": "code",
      "metadata": {
        "id": "KL9dz2G-1_XK"
      },
      "source": [
        "import zipfile\r\n",
        "with zipfile.ZipFile('/content/gdrive/My Drive/segmentation/Training_Batch1.zip', 'r') as zip_ref:\r\n",
        "    zip_ref.extractall('/content/')"
      ],
      "execution_count": 45,
      "outputs": []
    },
    {
      "cell_type": "code",
      "metadata": {
        "colab": {
          "base_uri": "https://localhost:8080/"
        },
        "id": "Uy8xTKS11qul",
        "outputId": "d46e366d-e7d4-4be8-886a-5a9a58eca95d"
      },
      "source": [
        "!git clone https://github.com/xmengli999/H-DenseUNet"
      ],
      "execution_count": 11,
      "outputs": [
        {
          "output_type": "stream",
          "text": [
            "Cloning into 'H-DenseUNet'...\n",
            "remote: Enumerating objects: 9, done.\u001b[K\n",
            "remote: Counting objects: 100% (9/9), done.\u001b[K\n",
            "remote: Compressing objects: 100% (9/9), done.\u001b[K\n",
            "remote: Total 706 (delta 5), reused 0 (delta 0), pack-reused 697\u001b[K\n",
            "Receiving objects: 100% (706/706), 13.77 MiB | 6.16 MiB/s, done.\n",
            "Resolving deltas: 100% (241/241), done.\n"
          ],
          "name": "stdout"
        }
      ]
    },
    {
      "cell_type": "code",
      "metadata": {
        "id": "pP89wppHn3kd",
        "colab": {
          "base_uri": "https://localhost:8080/"
        },
        "outputId": "c4d706e8-6698-476b-b445-462ac9266742"
      },
      "source": [
        "from zipfile import ZipFile\r\n",
        "import subprocess, sys\r\n",
        "\r\n",
        "def Unzip(zipFile, destinationDirectory):\r\n",
        "    try:\r\n",
        "        with ZipFile(zipFile, 'r') as zipObj:\r\n",
        "            # Extract all the contents of zip file in different directory\r\n",
        "            zipObj.extractall(destinationDirectory)\r\n",
        "    except:\r\n",
        "        print(\"An exception occurred extracting with Python ZipFile library.\")\r\n",
        "        print(\"Attempting to extract using 7zip\")\r\n",
        "        subprocess.Popen([\"7z\", \"e\", f\"{zipFile}\", f\"-o{destinationDirectory}\", \"-y\"])\r\n",
        "Unzip('/content/gdrive/My Drive/segmentation/test.zip', '/content/')"
      ],
      "execution_count": 5,
      "outputs": [
        {
          "output_type": "stream",
          "text": [
            "An exception occurred extracting with Python ZipFile library.\n",
            "Attempting to extract using 7zip\n"
          ],
          "name": "stdout"
        }
      ]
    },
    {
      "cell_type": "code",
      "metadata": {
        "id": "yxOpaOhbtdZL"
      },
      "source": [
        "import os\r\n",
        "import glob\r\n",
        "for i in range(25,70):\r\n",
        "  os.remove('/content/test-volume-'+str(i)+'.nii')"
      ],
      "execution_count": 9,
      "outputs": []
    },
    {
      "cell_type": "code",
      "metadata": {
        "id": "GP1v8WfYgemh"
      },
      "source": [
        "import os\r\n",
        "os.mkdir('/content/H-DenseUNet/data')\r\n",
        "os.mkdir('/content/H-DenseUNet/data/TrainingData')\r\n",
        "os.mkdir('/content/H-DenseUNet/data/TestData')"
      ],
      "execution_count": 12,
      "outputs": []
    },
    {
      "cell_type": "code",
      "metadata": {
        "id": "E0P_W5uGgLP5"
      },
      "source": [
        "import shutil\r\n",
        "import glob\r\n",
        "for path in glob.glob('/content/media/nas/01_Datasets/CT/LITS/Training Batch 1/segmentation-*.nii'):\r\n",
        "  shutil.move(path,'/content/H-DenseUNet/data/TrainingData')"
      ],
      "execution_count": 14,
      "outputs": []
    },
    {
      "cell_type": "code",
      "metadata": {
        "id": "YXEh0aMWwd_I"
      },
      "source": [
        "\r\n",
        "for path in glob.glob('/content/media/nas/01_Datasets/CT/LITS/Training Batch 1/volume-*.nii'):\r\n",
        "  shutil.move(path,'/content/H-DenseUNet/data/TrainingData')"
      ],
      "execution_count": 19,
      "outputs": []
    },
    {
      "cell_type": "code",
      "metadata": {
        "id": "wtHSSdnGuwcy"
      },
      "source": [
        "for path in glob.glob('/content/test-volume-*.nii'):\r\n",
        "  shutil.move(path,'/content/H-DenseUNet/data/TestData')"
      ],
      "execution_count": 15,
      "outputs": []
    },
    {
      "cell_type": "code",
      "metadata": {
        "id": "v3myGvgZwCLB"
      },
      "source": [
        "\r\n",
        "for i in range(5,28):\r\n",
        "    os.remove( '/content/H-DenseUNet/data/TrainingData/segmentation-'+str(i)+'.nii')\r\n",
        "    os.remove( '/content/H-DenseUNet/data/TrainingData/volume-'+str(i)+'.nii')"
      ],
      "execution_count": 21,
      "outputs": []
    },
    {
      "cell_type": "code",
      "metadata": {
        "colab": {
          "base_uri": "https://localhost:8080/"
        },
        "id": "XXtx521dgueS",
        "outputId": "789c40f3-477f-4b30-aca6-f2c8ebc31d8a"
      },
      "source": [
        "cd /content/H-DenseUNet"
      ],
      "execution_count": 22,
      "outputs": [
        {
          "output_type": "stream",
          "text": [
            "/content/H-DenseUNet\n"
          ],
          "name": "stdout"
        }
      ]
    },
    {
      "cell_type": "code",
      "metadata": {
        "colab": {
          "base_uri": "https://localhost:8080/"
        },
        "id": "LEyeCBjv6wpR",
        "outputId": "625d8c39-0e4d-4f7a-beab-856fe5353e99"
      },
      "source": [
        "pip install -r requirements.txt"
      ],
      "execution_count": 23,
      "outputs": [
        {
          "output_type": "stream",
          "text": [
            "Collecting absl-py==0.1.10\n",
            "\u001b[?25l  Downloading https://files.pythonhosted.org/packages/5f/b8/3dafc45f20a817ab9f042302646bcbe6f7e26e8a760871a85637e53a35ec/absl-py-0.1.10.tar.gz (79kB)\n",
            "\u001b[K     |████████████████████████████████| 81kB 3.8MB/s \n",
            "\u001b[?25hCollecting backports-abc==0.5\n",
            "  Downloading https://files.pythonhosted.org/packages/7d/56/6f3ac1b816d0cd8994e83d0c4e55bc64567532f7dc543378bd87f81cebc7/backports_abc-0.5-py2.py3-none-any.whl\n",
            "Collecting backports.functools-lru-cache==1.5\n",
            "  Downloading https://files.pythonhosted.org/packages/03/8e/2424c0e65c4a066e28f539364deee49b6451f8fcd4f718fefa50cc3dcf48/backports.functools_lru_cache-1.5-py2.py3-none-any.whl\n",
            "Collecting backports.weakref==1.0rc1\n",
            "  Downloading https://files.pythonhosted.org/packages/6a/f7/ae34b6818b603e264f26fe7db2bd07850ce331ce2fde74b266d61f4a2d87/backports.weakref-1.0rc1-py3-none-any.whl\n",
            "Collecting bleach==1.5.0\n",
            "  Downloading https://files.pythonhosted.org/packages/33/70/86c5fec937ea4964184d4d6c4f0b9551564f821e1c3575907639036d9b90/bleach-1.5.0-py2.py3-none-any.whl\n",
            "Collecting bokeh==0.12.15\n",
            "\u001b[?25l  Downloading https://files.pythonhosted.org/packages/ad/67/82f17df7d1f4b9e81c9263c1a1dc3897c43cf5a9461872f9054517331f77/bokeh-0.12.15.tar.gz (13.6MB)\n",
            "\u001b[K     |████████████████████████████████| 13.6MB 247kB/s \n",
            "\u001b[?25hCollecting certifi==2018.1.18\n",
            "\u001b[?25l  Downloading https://files.pythonhosted.org/packages/fa/53/0a5562e2b96749e99a3d55d8c7df91c9e4d8c39a9da1f1a49ac9e4f4b39f/certifi-2018.1.18-py2.py3-none-any.whl (151kB)\n",
            "\u001b[K     |████████████████████████████████| 153kB 41.9MB/s \n",
            "\u001b[?25hCollecting cffi==1.11.5\n",
            "\u001b[?25l  Downloading https://files.pythonhosted.org/packages/6d/c0/47db8f624f3e4e2f3f27be03a93379d1ba16a1450a7b1aacfa0366e2c0dd/cffi-1.11.5-cp36-cp36m-manylinux1_x86_64.whl (421kB)\n",
            "\u001b[K     |████████████████████████████████| 430kB 54.0MB/s \n",
            "\u001b[?25hRequirement already satisfied: chardet==3.0.4 in /usr/local/lib/python3.6/dist-packages (from -r requirements.txt (line 9)) (3.0.4)\n",
            "Collecting click==6.7\n",
            "\u001b[?25l  Downloading https://files.pythonhosted.org/packages/34/c1/8806f99713ddb993c5366c362b2f908f18269f8d792aff1abfd700775a77/click-6.7-py2.py3-none-any.whl (71kB)\n",
            "\u001b[K     |████████████████████████████████| 71kB 9.8MB/s \n",
            "\u001b[?25hCollecting cloudpickle==0.5.2\n",
            "  Downloading https://files.pythonhosted.org/packages/aa/18/514b557c4d8d4ada1f0454ad06c845454ad438fd5c5e0039ba51d6b032fe/cloudpickle-0.5.2-py2.py3-none-any.whl\n",
            "Requirement already satisfied: cycler==0.10.0 in /usr/local/lib/python3.6/dist-packages (from -r requirements.txt (line 12)) (0.10.0)\n",
            "Collecting cytoolz==0.9.0.1\n",
            "\u001b[?25l  Downloading https://files.pythonhosted.org/packages/36/f4/9728ba01ccb2f55df9a5af029b48ba0aaca1081bbd7823ea2ee223ba7a42/cytoolz-0.9.0.1.tar.gz (443kB)\n",
            "\u001b[K     |████████████████████████████████| 450kB 60.7MB/s \n",
            "\u001b[?25hCollecting dask==0.17.2\n",
            "\u001b[?25l  Downloading https://files.pythonhosted.org/packages/1d/f1/700c604af030d9b256a6590adf56cadd174c30c8ac6f555daf0e3023d294/dask-0.17.2-py2.py3-none-any.whl (582kB)\n",
            "\u001b[K     |████████████████████████████████| 583kB 55.5MB/s \n",
            "\u001b[?25hCollecting decorator==4.3.0\n",
            "  Downloading https://files.pythonhosted.org/packages/bc/bb/a24838832ba35baf52f32ab1a49b906b5f82fb7c76b2f6a7e35e140bac30/decorator-4.3.0-py2.py3-none-any.whl\n",
            "Collecting distributed==1.21.6\n",
            "\u001b[?25l  Downloading https://files.pythonhosted.org/packages/39/e8/7453e61bbee910aa91936743d6782a2108c28d9945f5f61cf801b485b5fa/distributed-1.21.6-py2.py3-none-any.whl (458kB)\n",
            "\u001b[K     |████████████████████████████████| 460kB 62.7MB/s \n",
            "\u001b[?25hCollecting dominate==2.3.1\n",
            "  Downloading https://files.pythonhosted.org/packages/43/b2/3b7d67dd59dab93ae08569384b254323516e8868b453eea5614a53835baf/dominate-2.3.1.tar.gz\n",
            "Collecting easydict==1.4\n",
            "  Downloading https://files.pythonhosted.org/packages/77/a1/dfe10522accfc2f6f27bee6144ac20f4852d6d177ec9dce1152b989d5228/easydict-1.4.tar.gz\n",
            "Collecting enum34==1.1.6\n",
            "  Downloading https://files.pythonhosted.org/packages/af/42/cb9355df32c69b553e72a2e28daee25d1611d2c0d9c272aa1d34204205b2/enum34-1.1.6-py3-none-any.whl\n",
            "Collecting funcsigs==1.0.2\n",
            "  Downloading https://files.pythonhosted.org/packages/69/cb/f5be453359271714c01b9bd06126eaf2e368f1fddfff30818754b5ac2328/funcsigs-1.0.2-py2.py3-none-any.whl\n",
            "Collecting functools32==3.2.3.post2\n",
            "  Downloading https://files.pythonhosted.org/packages/c5/60/6ac26ad05857c601308d8fb9e87fa36d0ebf889423f47c3502ef034365db/functools32-3.2.3-2.tar.gz\n",
            "\u001b[31mERROR: Command errored out with exit status 1: python setup.py egg_info Check the logs for full command output.\u001b[0m\n"
          ],
          "name": "stdout"
        }
      ]
    },
    {
      "cell_type": "code",
      "metadata": {
        "colab": {
          "base_uri": "https://localhost:8080/"
        },
        "id": "OcOKO0S_hNWI",
        "outputId": "1a40fd1c-2e85-4839-8507-d7027f2cd7bc"
      },
      "source": [
        "pip install medpy"
      ],
      "execution_count": 24,
      "outputs": [
        {
          "output_type": "stream",
          "text": [
            "Collecting medpy\n",
            "\u001b[?25l  Downloading https://files.pythonhosted.org/packages/3b/70/c1fd5dd60242eee81774696ea7ba4caafac2bad8f028bba94b1af83777d7/MedPy-0.4.0.tar.gz (151kB)\n",
            "\u001b[K     |████████████████████████████████| 153kB 5.5MB/s \n",
            "\u001b[?25hRequirement already satisfied: scipy>=1.1.0 in /usr/local/lib/python3.6/dist-packages (from medpy) (1.4.1)\n",
            "Requirement already satisfied: numpy>=1.11.0 in /usr/local/lib/python3.6/dist-packages (from medpy) (1.19.5)\n",
            "Collecting SimpleITK>=1.1.0\n",
            "\u001b[?25l  Downloading https://files.pythonhosted.org/packages/cc/85/6a7ce61f07cdaca722dd64f028b5678fb0a9e1bf66f534c2f8dd2eb78490/SimpleITK-2.0.2-cp36-cp36m-manylinux2010_x86_64.whl (47.4MB)\n",
            "\u001b[K     |████████████████████████████████| 47.4MB 64kB/s \n",
            "\u001b[?25hBuilding wheels for collected packages: medpy\n",
            "  Building wheel for medpy (setup.py) ... \u001b[?25l\u001b[?25hdone\n",
            "  Created wheel for medpy: filename=MedPy-0.4.0-cp36-cp36m-linux_x86_64.whl size=753430 sha256=0d7df6703442374be7b8b5475dd586b21fb9de06837621e9f00fcb1553f047d3\n",
            "  Stored in directory: /root/.cache/pip/wheels/8c/c9/9c/2c6281c7a72b9fb1570862a4f028af7ce38405008354fbf870\n",
            "Successfully built medpy\n",
            "Installing collected packages: SimpleITK, medpy\n",
            "Successfully installed SimpleITK-2.0.2 medpy-0.4.0\n"
          ],
          "name": "stdout"
        }
      ]
    },
    {
      "cell_type": "code",
      "metadata": {
        "colab": {
          "base_uri": "https://localhost:8080/"
        },
        "id": "zJ0b8gKy0w3Q",
        "outputId": "bca22848-d60a-4b65-bb22-7a4e37706452"
      },
      "source": [
        "pip install tensorflow==1.13.1 "
      ],
      "execution_count": 32,
      "outputs": [
        {
          "output_type": "stream",
          "text": [
            "Collecting tensorflow==1.13.1\n",
            "\u001b[?25l  Downloading https://files.pythonhosted.org/packages/77/63/a9fa76de8dffe7455304c4ed635be4aa9c0bacef6e0633d87d5f54530c5c/tensorflow-1.13.1-cp36-cp36m-manylinux1_x86_64.whl (92.5MB)\n",
            "\u001b[K     |████████████████████████████████| 92.5MB 33kB/s \n",
            "\u001b[?25hRequirement already satisfied: numpy>=1.13.3 in /usr/local/lib/python3.6/dist-packages (from tensorflow==1.13.1) (1.19.5)\n",
            "Requirement already satisfied: wheel>=0.26 in /usr/local/lib/python3.6/dist-packages (from tensorflow==1.13.1) (0.36.2)\n",
            "Requirement already satisfied: protobuf>=3.6.1 in /usr/local/lib/python3.6/dist-packages (from tensorflow==1.13.1) (3.12.4)\n",
            "Requirement already satisfied: termcolor>=1.1.0 in /usr/local/lib/python3.6/dist-packages (from tensorflow==1.13.1) (1.1.0)\n",
            "Requirement already satisfied: six>=1.10.0 in /usr/local/lib/python3.6/dist-packages (from tensorflow==1.13.1) (1.15.0)\n",
            "Collecting tensorboard<1.14.0,>=1.13.0\n",
            "\u001b[?25l  Downloading https://files.pythonhosted.org/packages/0f/39/bdd75b08a6fba41f098b6cb091b9e8c7a80e1b4d679a581a0ccd17b10373/tensorboard-1.13.1-py3-none-any.whl (3.2MB)\n",
            "\u001b[K     |████████████████████████████████| 3.2MB 56.3MB/s \n",
            "\u001b[?25hCollecting tensorflow-estimator<1.14.0rc0,>=1.13.0\n",
            "\u001b[?25l  Downloading https://files.pythonhosted.org/packages/bb/48/13f49fc3fa0fdf916aa1419013bb8f2ad09674c275b4046d5ee669a46873/tensorflow_estimator-1.13.0-py2.py3-none-any.whl (367kB)\n",
            "\u001b[K     |████████████████████████████████| 368kB 72.5MB/s \n",
            "\u001b[?25hRequirement already satisfied: absl-py>=0.1.6 in /usr/local/lib/python3.6/dist-packages (from tensorflow==1.13.1) (0.10.0)\n",
            "Requirement already satisfied: astor>=0.6.0 in /usr/local/lib/python3.6/dist-packages (from tensorflow==1.13.1) (0.8.1)\n",
            "Requirement already satisfied: grpcio>=1.8.6 in /usr/local/lib/python3.6/dist-packages (from tensorflow==1.13.1) (1.32.0)\n",
            "Requirement already satisfied: keras-preprocessing>=1.0.5 in /usr/local/lib/python3.6/dist-packages (from tensorflow==1.13.1) (1.1.2)\n",
            "Collecting keras-applications>=1.0.6\n",
            "\u001b[?25l  Downloading https://files.pythonhosted.org/packages/71/e3/19762fdfc62877ae9102edf6342d71b28fbfd9dea3d2f96a882ce099b03f/Keras_Applications-1.0.8-py3-none-any.whl (50kB)\n",
            "\u001b[K     |████████████████████████████████| 51kB 7.5MB/s \n",
            "\u001b[?25hRequirement already satisfied: gast>=0.2.0 in /usr/local/lib/python3.6/dist-packages (from tensorflow==1.13.1) (0.3.3)\n",
            "Requirement already satisfied: setuptools in /usr/local/lib/python3.6/dist-packages (from protobuf>=3.6.1->tensorflow==1.13.1) (53.0.0)\n",
            "Requirement already satisfied: markdown>=2.6.8 in /usr/local/lib/python3.6/dist-packages (from tensorboard<1.14.0,>=1.13.0->tensorflow==1.13.1) (3.3.3)\n",
            "Requirement already satisfied: werkzeug>=0.11.15 in /usr/local/lib/python3.6/dist-packages (from tensorboard<1.14.0,>=1.13.0->tensorflow==1.13.1) (1.0.1)\n",
            "Collecting mock>=2.0.0\n",
            "  Downloading https://files.pythonhosted.org/packages/5c/03/b7e605db4a57c0f6fba744b11ef3ddf4ddebcada35022927a2b5fc623fdf/mock-4.0.3-py3-none-any.whl\n",
            "Requirement already satisfied: h5py in /usr/local/lib/python3.6/dist-packages (from keras-applications>=1.0.6->tensorflow==1.13.1) (2.10.0)\n",
            "Requirement already satisfied: importlib-metadata; python_version < \"3.8\" in /usr/local/lib/python3.6/dist-packages (from markdown>=2.6.8->tensorboard<1.14.0,>=1.13.0->tensorflow==1.13.1) (3.4.0)\n",
            "Requirement already satisfied: typing-extensions>=3.6.4; python_version < \"3.8\" in /usr/local/lib/python3.6/dist-packages (from importlib-metadata; python_version < \"3.8\"->markdown>=2.6.8->tensorboard<1.14.0,>=1.13.0->tensorflow==1.13.1) (3.7.4.3)\n",
            "Requirement already satisfied: zipp>=0.5 in /usr/local/lib/python3.6/dist-packages (from importlib-metadata; python_version < \"3.8\"->markdown>=2.6.8->tensorboard<1.14.0,>=1.13.0->tensorflow==1.13.1) (3.4.0)\n",
            "Installing collected packages: tensorboard, mock, tensorflow-estimator, keras-applications, tensorflow\n",
            "  Found existing installation: tensorboard 2.4.1\n",
            "    Uninstalling tensorboard-2.4.1:\n",
            "      Successfully uninstalled tensorboard-2.4.1\n",
            "  Found existing installation: tensorflow-estimator 2.4.0\n",
            "    Uninstalling tensorflow-estimator-2.4.0:\n",
            "      Successfully uninstalled tensorflow-estimator-2.4.0\n",
            "  Found existing installation: tensorflow 2.4.1\n",
            "    Uninstalling tensorflow-2.4.1:\n",
            "      Successfully uninstalled tensorflow-2.4.1\n",
            "Successfully installed keras-applications-1.0.8 mock-4.0.3 tensorboard-1.13.1 tensorflow-1.13.1 tensorflow-estimator-1.13.0\n"
          ],
          "name": "stdout"
        }
      ]
    },
    {
      "cell_type": "code",
      "metadata": {
        "colab": {
          "base_uri": "https://localhost:8080/"
        },
        "id": "VCiNOYOR0yRi",
        "outputId": "456646be-6d38-49ce-fafc-80134a278745"
      },
      "source": [
        "pip install keras==2.2.4"
      ],
      "execution_count": 33,
      "outputs": [
        {
          "output_type": "stream",
          "text": [
            "Collecting keras==2.2.4\n",
            "\u001b[?25l  Downloading https://files.pythonhosted.org/packages/5e/10/aa32dad071ce52b5502266b5c659451cfd6ffcbf14e6c8c4f16c0ff5aaab/Keras-2.2.4-py2.py3-none-any.whl (312kB)\n",
            "\u001b[K     |████████████████████████████████| 317kB 5.6MB/s \n",
            "\u001b[?25hRequirement already satisfied: numpy>=1.9.1 in /usr/local/lib/python3.6/dist-packages (from keras==2.2.4) (1.19.5)\n",
            "Requirement already satisfied: six>=1.9.0 in /usr/local/lib/python3.6/dist-packages (from keras==2.2.4) (1.15.0)\n",
            "Requirement already satisfied: pyyaml in /usr/local/lib/python3.6/dist-packages (from keras==2.2.4) (3.13)\n",
            "Requirement already satisfied: scipy>=0.14 in /usr/local/lib/python3.6/dist-packages (from keras==2.2.4) (1.4.1)\n",
            "Requirement already satisfied: keras-applications>=1.0.6 in /usr/local/lib/python3.6/dist-packages (from keras==2.2.4) (1.0.8)\n",
            "Requirement already satisfied: keras-preprocessing>=1.0.5 in /usr/local/lib/python3.6/dist-packages (from keras==2.2.4) (1.1.2)\n",
            "Requirement already satisfied: h5py in /usr/local/lib/python3.6/dist-packages (from keras==2.2.4) (2.10.0)\n",
            "Installing collected packages: keras\n",
            "  Found existing installation: Keras 2.4.3\n",
            "    Uninstalling Keras-2.4.3:\n",
            "      Successfully uninstalled Keras-2.4.3\n",
            "Successfully installed keras-2.2.4\n"
          ],
          "name": "stdout"
        }
      ]
    },
    {
      "cell_type": "code",
      "metadata": {
        "colab": {
          "base_uri": "https://localhost:8080/"
        },
        "id": "SWb5L9tG6vVA",
        "outputId": "f46aff31-4a81-482d-8a8c-2ad86cb3cac9"
      },
      "source": [
        "!python preprocessing.py "
      ],
      "execution_count": 27,
      "outputs": [
        {
          "output_type": "stream",
          "text": [
            "Saving image volume-4.nii\n",
            "Saving image volume-2.nii\n",
            "Saving image volume-0.nii\n",
            "Saving image volume-3.nii\n",
            "Saving image volume-1.nii\n",
            "Saving image test-volume-24.nii\n",
            "Saving image test-volume-21.nii\n",
            "Saving image test-volume-22.nii\n",
            "Saving image test-volume-23.nii\n",
            "Saving image test-volume-20.nii\n",
            "Generate liver txt \n",
            "Generate tumor txt\n",
            "Generate liver box \n"
          ],
          "name": "stdout"
        }
      ]
    },
    {
      "cell_type": "code",
      "metadata": {
        "colab": {
          "base_uri": "https://localhost:8080/"
        },
        "id": "WORf-GfF1yF2",
        "outputId": "c922278f-c666-43f9-c6bd-09132f06a994"
      },
      "source": [
        "glob.glob('/content/gdrive/My Drive/segmentation/model_best.hdf5')"
      ],
      "execution_count": 37,
      "outputs": [
        {
          "output_type": "execute_result",
          "data": {
            "text/plain": [
              "['/content/gdrive/My Drive/segmentation/Training_Batch1.zip',\n",
              " '/content/gdrive/My Drive/segmentation/Training_Batch2.zip',\n",
              " '/content/gdrive/My Drive/segmentation/test.zip',\n",
              " '/content/gdrive/My Drive/segmentation/model_best.hdf5']"
            ]
          },
          "metadata": {
            "tags": []
          },
          "execution_count": 37
        }
      ]
    },
    {
      "cell_type": "code",
      "metadata": {
        "colab": {
          "base_uri": "https://localhost:8080/",
          "height": 36
        },
        "id": "e1sq5zHr1xD8",
        "outputId": "975c6c68-5e09-4a9a-e98b-942d39497dc0"
      },
      "source": [
        "from shutil import copyfile\r\n",
        "copyfile('/content/gdrive/My Drive/segmentation/model_best.hdf5','/content/H-DenseUNet/data/weights.hdf5')"
      ],
      "execution_count": 38,
      "outputs": [
        {
          "output_type": "execute_result",
          "data": {
            "application/vnd.google.colaboratory.intrinsic+json": {
              "type": "string"
            },
            "text/plain": [
              "'/content/H-DenseUNet/data/weights.hdf5'"
            ]
          },
          "metadata": {
            "tags": []
          },
          "execution_count": 38
        }
      ]
    },
    {
      "cell_type": "code",
      "metadata": {
        "id": "-By8__Mh6m4w"
      },
      "source": [
        "for i in range(5):\r\n",
        "  shutil.move( '/content/media/nas/01_Datasets/CT/LITS/Training Batch 1/segmentation-'+str(i)+'.nii','/content/H-DenseUNet/data/myTrainingData')"
      ],
      "execution_count": null,
      "outputs": []
    },
    {
      "cell_type": "code",
      "metadata": {
        "colab": {
          "base_uri": "https://localhost:8080/"
        },
        "id": "4mr5RidIygGc",
        "outputId": "4b4f042e-f77f-41c9-cf13-1f7a4fac86dc"
      },
      "source": [
        "!sh bash_train.sh"
      ],
      "execution_count": 54,
      "outputs": [
        {
          "output_type": "stream",
          "text": [
            "Using TensorFlow backend.\n",
            "/usr/local/lib/python3.6/dist-packages/tensorflow/python/framework/dtypes.py:526: FutureWarning: Passing (type, 1) or '1type' as a synonym of type is deprecated; in a future version of numpy, it will be understood as (type, (1,)) / '(1,)type'.\n",
            "  _np_qint8 = np.dtype([(\"qint8\", np.int8, 1)])\n",
            "/usr/local/lib/python3.6/dist-packages/tensorflow/python/framework/dtypes.py:527: FutureWarning: Passing (type, 1) or '1type' as a synonym of type is deprecated; in a future version of numpy, it will be understood as (type, (1,)) / '(1,)type'.\n",
            "  _np_quint8 = np.dtype([(\"quint8\", np.uint8, 1)])\n",
            "/usr/local/lib/python3.6/dist-packages/tensorflow/python/framework/dtypes.py:528: FutureWarning: Passing (type, 1) or '1type' as a synonym of type is deprecated; in a future version of numpy, it will be understood as (type, (1,)) / '(1,)type'.\n",
            "  _np_qint16 = np.dtype([(\"qint16\", np.int16, 1)])\n",
            "/usr/local/lib/python3.6/dist-packages/tensorflow/python/framework/dtypes.py:529: FutureWarning: Passing (type, 1) or '1type' as a synonym of type is deprecated; in a future version of numpy, it will be understood as (type, (1,)) / '(1,)type'.\n",
            "  _np_quint16 = np.dtype([(\"quint16\", np.uint16, 1)])\n",
            "/usr/local/lib/python3.6/dist-packages/tensorflow/python/framework/dtypes.py:530: FutureWarning: Passing (type, 1) or '1type' as a synonym of type is deprecated; in a future version of numpy, it will be understood as (type, (1,)) / '(1,)type'.\n",
            "  _np_qint32 = np.dtype([(\"qint32\", np.int32, 1)])\n",
            "/usr/local/lib/python3.6/dist-packages/tensorflow/python/framework/dtypes.py:535: FutureWarning: Passing (type, 1) or '1type' as a synonym of type is deprecated; in a future version of numpy, it will be understood as (type, (1,)) / '(1,)type'.\n",
            "  np_resource = np.dtype([(\"resource\", np.ubyte, 1)])\n",
            "------------------------------\n",
            "Creating and compiling model...\n",
            "------------------------------\n",
            "WARNING:tensorflow:From /usr/local/lib/python3.6/dist-packages/tensorflow/python/framework/op_def_library.py:263: colocate_with (from tensorflow.python.framework.ops) is deprecated and will be removed in a future version.\n",
            "Instructions for updating:\n",
            "Colocations handled automatically by placer.\n",
            "2021-02-17 07:50:17.526405: I tensorflow/core/platform/cpu_feature_guard.cc:141] Your CPU supports instructions that this TensorFlow binary was not compiled to use: AVX2 FMA\n",
            "2021-02-17 07:50:17.529063: I tensorflow/core/platform/profile_utils/cpu_utils.cc:94] CPU Frequency: 2199995000 Hz\n",
            "2021-02-17 07:50:17.529349: I tensorflow/compiler/xla/service/service.cc:150] XLA service 0x2f68c60 executing computations on platform Host. Devices:\n",
            "2021-02-17 07:50:17.529380: I tensorflow/compiler/xla/service/service.cc:158]   StreamExecutor device (0): <undefined>, <undefined>\n",
            "WARNING:tensorflow:From /usr/local/lib/python3.6/dist-packages/keras/backend/tensorflow_backend.py:3445: calling dropout (from tensorflow.python.ops.nn_ops) with keep_prob is deprecated and will be removed in a future version.\n",
            "Instructions for updating:\n",
            "Please use `rate` instead of `keep_prob`. Rate should be set to `rate = 1 - keep_prob`.\n",
            "------------------------------\n",
            "Fitting model......\n",
            "------------------------------\n",
            "WARNING:tensorflow:From /usr/local/lib/python3.6/dist-packages/tensorflow/python/ops/array_grad.py:425: to_int32 (from tensorflow.python.ops.math_ops) is deprecated and will be removed in a future version.\n",
            "Instructions for updating:\n",
            "Use tf.cast instead.\n",
            "/usr/local/lib/python3.6/dist-packages/keras/engine/training_generator.py:47: UserWarning: Using a generator with `use_multiprocessing=True` and multiple workers may duplicate your data. Please consider using the`keras.utils.Sequence class.\n",
            "  UserWarning('Using a generator with `use_multiprocessing=True`'\n",
            "Epoch 1/6000\n",
            "2021-02-17 07:51:38.898572: W tensorflow/core/framework/op_kernel.cc:1401] OP_REQUIRES failed at conv_grad_filter_ops.cc:356 : Invalid argument: Conv2DCustomBackpropFilter: input and out_backprop must have the same batch sizeinput batch: 1outbackprop batch: 10 batch_dim: 0\n",
            "Traceback (most recent call last):\n",
            "  File \"train_2ddense.py\", line 227, in <module>\n",
            "    train_and_predict()\n",
            "  File \"train_2ddense.py\", line 222, in train_and_predict\n",
            "    workers=3, use_multiprocessing=True)\n",
            "  File \"/usr/local/lib/python3.6/dist-packages/keras/legacy/interfaces.py\", line 91, in wrapper\n",
            "    return func(*args, **kwargs)\n",
            "  File \"/usr/local/lib/python3.6/dist-packages/keras/engine/training.py\", line 1418, in fit_generator\n",
            "    initial_epoch=initial_epoch)\n",
            "  File \"/usr/local/lib/python3.6/dist-packages/keras/engine/training_generator.py\", line 217, in fit_generator\n",
            "    class_weight=class_weight)\n",
            "  File \"/usr/local/lib/python3.6/dist-packages/keras/engine/training.py\", line 1217, in train_on_batch\n",
            "    outputs = self.train_function(ins)\n",
            "  File \"/usr/local/lib/python3.6/dist-packages/keras/backend/tensorflow_backend.py\", line 2715, in __call__\n",
            "    return self._call(inputs)\n",
            "  File \"/usr/local/lib/python3.6/dist-packages/keras/backend/tensorflow_backend.py\", line 2675, in _call\n",
            "    fetched = self._callable_fn(*array_vals)\n",
            "  File \"/usr/local/lib/python3.6/dist-packages/tensorflow/python/client/session.py\", line 1439, in __call__\n",
            "    run_metadata_ptr)\n",
            "  File \"/usr/local/lib/python3.6/dist-packages/tensorflow/python/framework/errors_impl.py\", line 528, in __exit__\n",
            "    c_api.TF_GetCode(self.status.status))\n",
            "tensorflow.python.framework.errors_impl.InvalidArgumentError: Conv2DCustomBackpropFilter: input and out_backprop must have the same batch sizeinput batch: 1outbackprop batch: 10 batch_dim: 0\n",
            "\t [[{{node training/SGD/gradients/conv_up4/convolution_grad/Conv2DBackpropFilter}}]]\n"
          ],
          "name": "stdout"
        }
      ]
    },
    {
      "cell_type": "code",
      "metadata": {
        "id": "-3ubJFsiEfFB"
      },
      "source": [
        "\"\"\"Test ImageNet pretrained DenseNet\"\"\"\r\n",
        "from __future__ import print_function\r\n",
        "import sys\r\n",
        "sys.path.insert(0,'/home/xmli/livertumor_xmli/Keras-2.0.8')\r\n",
        "sys.path.insert(0,'/home/xmli/livertumor_xmli/mylib')\r\n",
        "# sys.path.insert(0,'/research/pheng/xmli/livertumor/Keras-2.0.8')\r\n",
        "# sys.path.insert(0,'/research/pheng/xmli/livertumor/mylib')\r\n",
        "from multiprocessing.dummy import Pool as ThreadPool\r\n",
        "import random\r\n",
        "from medpy.io import load\r\n",
        "import numpy as np\r\n",
        "from keras.optimizers import SGD\r\n",
        "from keras.callbacks import ModelCheckpoint\r\n",
        "import tensorflow as tf\r\n",
        "from keras.models import Model\r\n",
        "from keras.layers import Input, ZeroPadding2D, concatenate, add\r\n",
        "from keras.layers.core import Dropout, Activation\r\n",
        "from keras.layers.convolutional import UpSampling2D, Conv2D\r\n",
        "from keras.layers.pooling import AveragePooling2D, MaxPooling2D\r\n",
        "from keras.layers.normalization import BatchNormalization\r\n",
        "import keras.backend as K\r\n",
        "import os\r\n",
        "import time\r\n",
        "from skimage.transform import resize\r\n",
        "from lib.custom_layers import Scale\r\n",
        "os.environ['CUDA_VISIBLE_DEVICES'] = '0'\r\n",
        "K.set_image_dim_ordering('tf')\r\n",
        "\r\n",
        "path = './result_train_denseU167_fast_new/'\r\n",
        "batch_size = 1\r\n",
        "img_deps = 224\r\n",
        "img_rows = 224\r\n",
        "img_cols = 3\r\n",
        "std = 37\r\n",
        "thread_num = 14\r\n",
        "txtfile = 'myTrainingDataTxt'\r\n",
        "mean = 48\r\n",
        "\r\n",
        "liverlist = [32,34,38,41,47,87,89,91,105,106,114,115,119]\r\n",
        "DataList = [\"/home/xmli/gpu7_xmli/\"]\r\n",
        "def load_seq_crop_data_masktumor_try(Parameter_List):\r\n",
        "    img = Parameter_List[0]\r\n",
        "    tumor = Parameter_List[1]\r\n",
        "    lines = Parameter_List[2]\r\n",
        "    numid = Parameter_List[3]\r\n",
        "    minindex = Parameter_List[4]\r\n",
        "    maxindex = Parameter_List[5]\r\n",
        "    #  randomly scale\r\n",
        "    scale = np.random.uniform(0.8,1.2)\r\n",
        "    deps = int(img_deps * scale)\r\n",
        "    rows = int(img_rows * scale)\r\n",
        "    cols = 3\r\n",
        "\r\n",
        "    sed = np.random.randint(1,numid)\r\n",
        "    cen = lines[sed-1]\r\n",
        "    cen = np.fromstring(cen, dtype=int, sep=' ')\r\n",
        "    # print (cen)\r\n",
        "    a = min(max(minindex[0] + deps/2, cen[0]), maxindex[0]- deps/2-1)\r\n",
        "    b = min(max(minindex[1] + rows/2, cen[1]), maxindex[1]- rows/2-1)\r\n",
        "    c = min(max(minindex[2] + cols/2, cen[2]), maxindex[2]- cols/2-1)\r\n",
        "    cropp_img = img[a - deps / 2:a + deps / 2, b - rows / 2:b + rows / 2,\r\n",
        "                c - cols / 2: c + cols / 2 + 1].copy()\r\n",
        "    cropp_tumor = tumor[a - deps / 2:a + deps / 2, b - rows / 2:b + rows / 2,\r\n",
        "                  c - cols / 2:c + cols / 2 + 1].copy()\r\n",
        "\r\n",
        "    cropp_img -= mean\r\n",
        "     # randomly flipping\r\n",
        "    flip_num = np.random.randint(0,3)\r\n",
        "    if flip_num == 1:\r\n",
        "        cropp_img = np.flipud(cropp_img)\r\n",
        "        cropp_tumor = np.flipud(cropp_tumor)\r\n",
        "    elif flip_num == 2:\r\n",
        "        cropp_img = np.fliplr(cropp_img)\r\n",
        "        cropp_tumor = np.fliplr(cropp_tumor)\r\n",
        "    #\r\n",
        "    cropp_tumor = resize(cropp_tumor, (img_deps,img_rows,img_cols), order=0, mode='edge', cval=0, clip=True, preserve_range=True)\r\n",
        "    cropp_img   = resize(cropp_img, (img_deps,img_rows,img_cols), order=3, mode='constant', cval=0, clip=True, preserve_range=True)\r\n",
        "    return cropp_img, cropp_tumor[:,:,1]\r\n",
        "\r\n",
        "def generate_arrays_from_file(batch_size, trainidx, img_list, tumor_list, tumorlines, liverlines, tumoridx, liveridx, minindex_list, maxindex_list):\r\n",
        "    while 1:\r\n",
        "        X = np.zeros((batch_size, img_deps, img_rows, img_cols), dtype='float32')\r\n",
        "        Y = np.zeros((batch_size, img_deps, img_rows, 1), dtype='int16')\r\n",
        "        Parameter_List = []\r\n",
        "        for idx in xrange(batch_size):\r\n",
        "            count = random.choice(trainidx)\r\n",
        "            img = img_list[count]\r\n",
        "            tumor = tumor_list[count]\r\n",
        "            minindex = minindex_list[count]\r\n",
        "            maxindex = maxindex_list[count]\r\n",
        "            num = np.random.randint(0,6)\r\n",
        "            if num < 3 or (count in liverlist):\r\n",
        "                lines = liverlines[count]\r\n",
        "                numid = liveridx[count]\r\n",
        "            else:\r\n",
        "                lines = tumorlines[count]\r\n",
        "                numid = tumoridx[count]\r\n",
        "            Parameter_List.append([img, tumor, lines, numid, minindex, maxindex])\r\n",
        "        pool = ThreadPool(thread_num)\r\n",
        "        result_list = pool.map(load_seq_crop_data_masktumor_try, Parameter_List)\r\n",
        "        pool.close()\r\n",
        "        pool.join()\r\n",
        "        for idx in xrange(len(result_list)):\r\n",
        "            X[idx, :, :, :] = result_list[idx][0]\r\n",
        "            Y[idx, :, :, 0] = result_list[idx][1]\r\n",
        "        yield (X,Y)\r\n",
        "\r\n",
        "def weighted_crossentropy(y_true, y_pred):\r\n",
        "\r\n",
        "    y_pred_f = K.reshape(y_pred, (batch_size*img_deps*img_rows,3))\r\n",
        "    y_true_f = K.reshape(y_true, (batch_size*img_deps*img_rows,))\r\n",
        "\r\n",
        "    soft_pred_f = K.softmax(y_pred_f)\r\n",
        "    soft_pred_f = K.log(tf.clip_by_value(soft_pred_f, 1e-10, 1.0))\r\n",
        "\r\n",
        "    neg = K.equal(y_true_f, K.zeros_like(y_true_f))\r\n",
        "    neg_calculoss = tf.gather(soft_pred_f[:,0], tf.where(neg))\r\n",
        "\r\n",
        "    pos1 = K.equal(y_true_f, K.ones_like(y_true_f))\r\n",
        "    pos1_calculoss = tf.gather(soft_pred_f[:,1], tf.where(pos1))\r\n",
        "\r\n",
        "    pos2 = K.equal(y_true_f, 2*K.ones_like(y_true_f))\r\n",
        "    pos2_calculoss = tf.gather(soft_pred_f[:,2], tf.where(pos2))\r\n",
        "\r\n",
        "    loss = -K.mean(tf.concat([0.78*neg_calculoss, 0.65*pos1_calculoss, 8.57*pos2_calculoss], 0))\r\n",
        "\r\n",
        "    return loss\r\n",
        "\r\n",
        "\r\n",
        "def DenseUNet(nb_dense_block=4, growth_rate=48, nb_filter=96, reduction=0.0, dropout_rate=0.0, weight_decay=1e-4, classes=1000, weights_path=None):\r\n",
        "    '''Instantiate the DenseNet 161 architecture,\r\n",
        "        # Arguments\r\n",
        "            nb_dense_block: number of dense blocks to add to end\r\n",
        "            growth_rate: number of filters to add per dense block\r\n",
        "            nb_filter: initial number of filters\r\n",
        "            reduction: reduction factor of transition blocks.\r\n",
        "            dropout_rate: dropout rate\r\n",
        "            weight_decay: weight decay factor\r\n",
        "            classes: optional number of classes to classify images\r\n",
        "            weights_path: path to pre-trained weights\r\n",
        "        # Returns\r\n",
        "            A Keras model instance.\r\n",
        "    '''\r\n",
        "    eps = 1.1e-5\r\n",
        "\r\n",
        "    # compute compression factor\r\n",
        "    compression = 1.0 - reduction\r\n",
        "\r\n",
        "    # Handle Dimension Ordering for different backends\r\n",
        "    global concat_axis\r\n",
        "    if K.image_dim_ordering() == 'tf':\r\n",
        "      concat_axis = 3\r\n",
        "      img_input = Input(batch_shape=(batch_size, img_deps, img_rows, 3), name='data')\r\n",
        "    else:\r\n",
        "      concat_axis = 1\r\n",
        "      img_input = Input(shape=(3, 224, 224), name='data')\r\n",
        "\r\n",
        "    # From architecture for ImageNet (Table 1 in the paper)\r\n",
        "    nb_filter = 96\r\n",
        "    nb_layers = [6,12,36,24] # For DenseNet-161\r\n",
        "    box = []\r\n",
        "    # Initial convolution\r\n",
        "    x = ZeroPadding2D((3, 3), name='conv1_zeropadding')(img_input)\r\n",
        "    x = Conv2D(nb_filter, (7, 7), strides=(2, 2), name='conv1', use_bias=False)(x)\r\n",
        "    x = BatchNormalization(epsilon=eps, axis=concat_axis, name='conv1_bn')(x)\r\n",
        "    x = Scale(axis=concat_axis, name='conv1_scale')(x)\r\n",
        "    x = Activation('relu', name='relu1')(x)\r\n",
        "    box.append(x)\r\n",
        "    x = ZeroPadding2D((1, 1), name='pool1_zeropadding')(x)\r\n",
        "    x = MaxPooling2D((3, 3), strides=(2, 2), name='pool1')(x)\r\n",
        "\r\n",
        "    # Add dense blocks\r\n",
        "    for block_idx in range(nb_dense_block - 1):\r\n",
        "        stage = block_idx+2\r\n",
        "        x, nb_filter = dense_block(x, stage, nb_layers[block_idx], nb_filter, growth_rate, dropout_rate=dropout_rate, weight_decay=weight_decay)\r\n",
        "        box.append(x)\r\n",
        "        # Add transition_block\r\n",
        "        x = transition_block(x, stage, nb_filter, compression=compression, dropout_rate=dropout_rate, weight_decay=weight_decay)\r\n",
        "        nb_filter = int(nb_filter * compression)\r\n",
        "\r\n",
        "    final_stage = stage + 1\r\n",
        "    x, nb_filter = dense_block(x, final_stage, nb_layers[-1], nb_filter, growth_rate, dropout_rate=dropout_rate, weight_decay=weight_decay)\r\n",
        "\r\n",
        "    x = BatchNormalization(epsilon=eps, axis=concat_axis, name='conv'+str(final_stage)+'_blk_bn')(x)\r\n",
        "    x = Scale(axis=concat_axis, name='conv'+str(final_stage)+'_blk_scale')(x)\r\n",
        "    x = Activation('relu', name='relu'+str(final_stage)+'_blk')(x)\r\n",
        "    box.append(x)\r\n",
        "\r\n",
        "    up0 = UpSampling2D(size=(2,2))(x)\r\n",
        "    line0 = Conv2D(2208, (1, 1), padding=\"same\", kernel_initializer=\"normal\", name=\"line0\")(box[3])\r\n",
        "    up0_sum = add([line0, up0])\r\n",
        "    conv_up0 = Conv2D(768, (3, 3), padding=\"same\", kernel_initializer=\"normal\", name = \"conv_up0\")(up0_sum)\r\n",
        "    bn_up0 = BatchNormalization(name = \"bn_up0\")(conv_up0)\r\n",
        "    ac_up0 = Activation('relu', name='ac_up0')(bn_up0)\r\n",
        "\r\n",
        "    up1 = UpSampling2D(size=(2,2))(ac_up0)\r\n",
        "    up1_sum = add([box[2], up1])\r\n",
        "    conv_up1 = Conv2D(384, (3, 3), padding=\"same\", kernel_initializer=\"normal\", name = \"conv_up1\")(up1_sum)\r\n",
        "    bn_up1 = BatchNormalization(name = \"bn_up1\")(conv_up1)\r\n",
        "    ac_up1 = Activation('relu', name='ac_up1')(bn_up1)\r\n",
        "\r\n",
        "    up2 = UpSampling2D(size=(2,2))(ac_up1)\r\n",
        "    up2_sum = add([box[1], up2])\r\n",
        "    conv_up2 = Conv2D(96, (3, 3), padding=\"same\", kernel_initializer=\"normal\", name = \"conv_up2\")(up2_sum)\r\n",
        "    bn_up2 = BatchNormalization(name = \"bn_up2\")(conv_up2)\r\n",
        "    ac_up2 = Activation('relu', name='ac_up2')(bn_up2)\r\n",
        "\r\n",
        "    up3 = UpSampling2D(size=(2,2))(ac_up2)\r\n",
        "    up3_sum = add([box[0], up3])\r\n",
        "    conv_up3 = Conv2D(96, (3, 3), padding=\"same\", kernel_initializer=\"normal\", name = \"conv_up3\")(up3_sum)\r\n",
        "    bn_up3 = BatchNormalization(name = \"bn_up3\")(conv_up3)\r\n",
        "    ac_up3 = Activation('relu', name='ac_up3')(bn_up3)\r\n",
        "\r\n",
        "    up4 = UpSampling2D(size=(2, 2))(ac_up3)\r\n",
        "    conv_up4 = Conv2D(64, (3, 3), padding=\"same\", kernel_initializer=\"normal\", name=\"conv_up4\")(up4)\r\n",
        "    conv_up4 = Dropout(rate=0.3)(conv_up4)\r\n",
        "    bn_up4 = BatchNormalization(name=\"bn_up4\")(conv_up4)\r\n",
        "    ac_up4 = Activation('relu', name='ac_up4')(bn_up4)\r\n",
        "\r\n",
        "    x = Conv2D(3, (1,1), padding=\"same\", kernel_initializer=\"normal\", name=\"dense167classifer\")(ac_up4)\r\n",
        "\r\n",
        "    model = Model(img_input, x, name='denseu161')\r\n",
        "\r\n",
        "    if weights_path is not None:\r\n",
        "      model.load_weights(weights_path)\r\n",
        "\r\n",
        "    return model\r\n",
        "\r\n",
        "def conv_block(x, stage, branch, nb_filter, dropout_rate=None, weight_decay=1e-4):\r\n",
        "    '''Apply BatchNorm, Relu, bottleneck 1x1 Conv2D, 3x3 Conv2D, and option dropout\r\n",
        "        # Arguments\r\n",
        "            x: input tensor \r\n",
        "            stage: index for dense block\r\n",
        "            branch: layer index within each dense block\r\n",
        "            nb_filter: number of filters\r\n",
        "            dropout_rate: dropout rate\r\n",
        "            weight_decay: weight decay factor\r\n",
        "    '''\r\n",
        "    eps = 1.1e-5\r\n",
        "    conv_name_base = 'conv' + str(stage) + '_' + str(branch)\r\n",
        "    relu_name_base = 'relu' + str(stage) + '_' + str(branch)\r\n",
        "\r\n",
        "    # 1x1 Convolution (Bottleneck layer)\r\n",
        "    inter_channel = nb_filter * 4\r\n",
        "    x = BatchNormalization(epsilon=eps, axis=concat_axis, name=conv_name_base+'_x1_bn')(x)\r\n",
        "    x = Scale(axis=concat_axis, name=conv_name_base+'_x1_scale')(x)\r\n",
        "    x = Activation('relu', name=relu_name_base+'_x1')(x)\r\n",
        "    x = Conv2D(inter_channel, (1, 1), name=conv_name_base+'_x1', use_bias=False)(x)\r\n",
        "\r\n",
        "    if dropout_rate:\r\n",
        "        x = Dropout(dropout_rate)(x)\r\n",
        "\r\n",
        "    # 3x3 Convolution\r\n",
        "    x = BatchNormalization(epsilon=eps, axis=concat_axis, name=conv_name_base+'_x2_bn')(x)\r\n",
        "    x = Scale(axis=concat_axis, name=conv_name_base+'_x2_scale')(x)\r\n",
        "    x = Activation('relu', name=relu_name_base+'_x2')(x)\r\n",
        "    x = ZeroPadding2D((1, 1), name=conv_name_base+'_x2_zeropadding')(x)\r\n",
        "    x = Conv2D(nb_filter, (3, 3), name=conv_name_base+'_x2', use_bias=False)(x)\r\n",
        "\r\n",
        "    if dropout_rate:\r\n",
        "        x = Dropout(dropout_rate)(x)\r\n",
        "\r\n",
        "    return x\r\n",
        "\r\n",
        "\r\n",
        "def transition_block(x, stage, nb_filter, compression=1.0, dropout_rate=None, weight_decay=1E-4):\r\n",
        "    ''' Apply BatchNorm, 1x1 Convolution, averagePooling, optional compression, dropout \r\n",
        "        # Arguments\r\n",
        "            x: input tensor\r\n",
        "            stage: index for dense block\r\n",
        "            nb_filter: number of filters\r\n",
        "            compression: calculated as 1 - reduction. Reduces the number of feature maps in the transition block.\r\n",
        "            dropout_rate: dropout rate\r\n",
        "            weight_decay: weight decay factor\r\n",
        "    '''\r\n",
        "\r\n",
        "    eps = 1.1e-5\r\n",
        "    conv_name_base = 'conv' + str(stage) + '_blk'\r\n",
        "    relu_name_base = 'relu' + str(stage) + '_blk'\r\n",
        "    pool_name_base = 'pool' + str(stage)\r\n",
        "\r\n",
        "    x = BatchNormalization(epsilon=eps, axis=concat_axis, name=conv_name_base+'_bn')(x)\r\n",
        "    x = Scale(axis=concat_axis, name=conv_name_base+'_scale')(x)\r\n",
        "    x = Activation('relu', name=relu_name_base)(x)\r\n",
        "    x = Conv2D(int(nb_filter * compression), (1, 1), name=conv_name_base, use_bias=False)(x)\r\n",
        "\r\n",
        "    if dropout_rate:\r\n",
        "        x = Dropout(dropout_rate)(x)\r\n",
        "\r\n",
        "    x = AveragePooling2D((2, 2), strides=(2, 2), name=pool_name_base)(x)\r\n",
        "\r\n",
        "    return x\r\n",
        "\r\n",
        "\r\n",
        "def dense_block(x, stage, nb_layers, nb_filter, growth_rate, dropout_rate=None, weight_decay=1e-4, grow_nb_filters=True):\r\n",
        "    ''' Build a dense_block where the output of each conv_block is fed to subsequent ones\r\n",
        "        # Arguments\r\n",
        "            x: input tensor\r\n",
        "            stage: index for dense block\r\n",
        "            nb_layers: the number of layers of conv_block to append to the model.\r\n",
        "            nb_filter: number of filters\r\n",
        "            growth_rate: growth rate\r\n",
        "            dropout_rate: dropout rate\r\n",
        "            weight_decay: weight decay factor\r\n",
        "            grow_nb_filters: flag to decide to allow number of filters to grow\r\n",
        "    '''\r\n",
        "\r\n",
        "    eps = 1.1e-5\r\n",
        "    concat_feat = x\r\n",
        "\r\n",
        "    for i in range(nb_layers):\r\n",
        "        branch = i+1\r\n",
        "        x = conv_block(concat_feat, stage, branch, growth_rate, dropout_rate, weight_decay)\r\n",
        "        concat_feat = concatenate([concat_feat, x], axis=concat_axis, name='concat_'+str(stage)+'_'+str(branch))\r\n",
        "\r\n",
        "        if grow_nb_filters:\r\n",
        "            nb_filter += growth_rate\r\n",
        "\r\n",
        "    return concat_feat, nb_filter\r\n",
        "\r\n",
        "\r\n",
        "\r\n",
        "def train_and_predict():\r\n",
        "\r\n",
        "    print('-'*30)\r\n",
        "    print('Creating and compiling model...')\r\n",
        "    print('-'*30)\r\n",
        "\r\n",
        "    model = DenseUNet(reduction=0.5, weights_path='./result_train_dense167_fast/model/weights365.04-0.02.hdf5')\r\n",
        "    sgd = SGD(lr=1e-3, momentum=0.9, nesterov=True)\r\n",
        "    model.compile(optimizer=sgd, loss=[weighted_crossentropy])\r\n",
        "\r\n",
        "    trainidx = list(range(131))\r\n",
        "    img_list = []\r\n",
        "    tumor_list = []\r\n",
        "    minindex_list = []\r\n",
        "    maxindex_list = []\r\n",
        "    tumorlines = []\r\n",
        "    tumoridx = []\r\n",
        "    liveridx = []\r\n",
        "    liverlines = []\r\n",
        "    t1=time.time()\r\n",
        "    for idx in xrange(131):\r\n",
        "        img, img_header = load(DataList[0] + 'myTrainingData/volume-' + str(idx) + '.nii' )\r\n",
        "        tumor, tumor_header = load(DataList[0] + 'myTrainingData/segmentation-' + str(idx) + '.nii')\r\n",
        "        img_list.append(img)\r\n",
        "        tumor_list.append(tumor)\r\n",
        "\r\n",
        "        maxmin = np.loadtxt(DataList[0] + str(txtfile) + '/LiverBox/box_' + str(idx) + '.txt', delimiter=' ')\r\n",
        "        minindex = maxmin[0:3]\r\n",
        "        maxindex = maxmin[3:6]\r\n",
        "        minindex = np.array(minindex, dtype='int')\r\n",
        "        maxindex = np.array(maxindex, dtype='int')\r\n",
        "        minindex[0] = max(minindex[0]-3, 0)\r\n",
        "        minindex[1] = max(minindex[1]-3, 0)\r\n",
        "        minindex[2] = max(minindex[2]-3, 0)\r\n",
        "        maxindex[0] = min(img.shape[0], maxindex[0]+3)\r\n",
        "        maxindex[1] = min(img.shape[1], maxindex[1]+3)\r\n",
        "        maxindex[2] = min(img.shape[2], maxindex[2]+3)\r\n",
        "        minindex_list.append(minindex)\r\n",
        "        maxindex_list.append(maxindex)\r\n",
        "\r\n",
        "        f1 = open(DataList[0] + str(txtfile) + '/TumorPixels/tumor_' + str(idx) + '.txt','r')\r\n",
        "        tumorline = f1.readlines()\r\n",
        "        tumorlines.append(tumorline)\r\n",
        "        tumoridx.append(len(tumorline))\r\n",
        "        f1.close()\r\n",
        "\r\n",
        "        f2 = open(DataList[0] + str(txtfile) + '/LiverPixels/liver_' + str(idx) + '.txt','r')\r\n",
        "        liverline = f2.readlines()\r\n",
        "        liverlines.append(liverline)\r\n",
        "        liveridx.append(len(liverline))\r\n",
        "        f2.close()\r\n",
        "    t2=time.time()\r\n",
        "    print (t2-t1)\r\n",
        "\r\n",
        "\r\n",
        "    # print (model.summary())\r\n",
        "\r\n",
        "    if not os.path.exists(path + \"model\"):\r\n",
        "        os.mkdir(path + 'model')\r\n",
        "        os.mkdir(path + 'history')\r\n",
        "    else:\r\n",
        "        if os.path.exists(path + \"history/lossbatch.txt\"):\r\n",
        "            os.remove(path + 'history/lossbatch.txt')\r\n",
        "        if os.path.exists(path + \"history/lossepoch.txt\"):\r\n",
        "            os.remove(path + 'history/lossepoch.txt')\r\n",
        "    model_checkpoint = ModelCheckpoint(path + 'model/weights.{epoch:02d}-{loss:.2f}.hdf5', monitor='loss', verbose = 1,\r\n",
        "                                       save_best_only=False,save_weights_only=False,mode = 'min', period = 2)\r\n",
        "\r\n",
        "    print('-'*30)\r\n",
        "    print('Fitting model......')\r\n",
        "    print('-'*30)\r\n",
        "\r\n",
        "    steps = 27386/batch_size\r\n",
        "    model.fit_generator(generate_arrays_from_file(batch_size, trainidx, img_list, tumor_list, tumorlines, liverlines, tumoridx, liveridx, minindex_list, maxindex_list),steps_per_epoch=steps,\r\n",
        "                        epochs= 6000, verbose = 1, callbacks = [model_checkpoint], max_queue_size=10, workers=3, use_multiprocessing=True)\r\n",
        "\r\n",
        "    print ('Finised Training .......')\r\n",
        "\r\n",
        "# if __name__ == '__main__':\r\n",
        "#     train_and_predict()"
      ],
      "execution_count": 99,
      "outputs": []
    },
    {
      "cell_type": "code",
      "metadata": {
        "id": "DnrByiEo_lZz"
      },
      "source": [
        "\"\"\"Test ImageNet pretrained DenseNet\"\"\"\r\n",
        "from __future__ import print_function\r\n",
        "import sys\r\n",
        "# sys.path.insert(0,'Keras-2.0.8')\r\n",
        "from multiprocessing.dummy import Pool as ThreadPool\r\n",
        "import random\r\n",
        "from medpy.io import load\r\n",
        "import numpy as np\r\n",
        "import argparse\r\n",
        "from keras.optimizers import SGD\r\n",
        "from keras.callbacks import ModelCheckpoint\r\n",
        "import keras.backend as K\r\n",
        "from loss import weighted_crossentropy_2ddense\r\n",
        "import os\r\n",
        "from skimage.transform import resize\r\n",
        "K.set_image_dim_ordering('tf')\r\n",
        "\r\n",
        "#  global parameters\r\n",
        "parser = argparse.ArgumentParser(description='Keras 2d denseunet Training')\r\n",
        "#  data folder\r\n",
        "parser.add_argument('-data', type=str, default='/content/H-DenseUNet/data', help='test images')\r\n",
        "parser.add_argument('-save_path', type=str, default='Experiments/')\r\n",
        "#  other paras\r\n",
        "parser.add_argument('-b', type=int, default=40)\r\n",
        "parser.add_argument('-input_size', type=int, default=224)\r\n",
        "parser.add_argument('-model_weight', type=str, default='./model/densenet161_weights_tf.h5')\r\n",
        "parser.add_argument('-input_cols', type=int, default=3)\r\n",
        "\r\n",
        "#  data augment\r\n",
        "parser.add_argument('-mean', type=int, default=48)\r\n",
        "parser.add_argument('-thread_num', type=int, default=14)\r\n",
        "# args = parser.parse_args()\r\n",
        "\r\n",
        "MEAN = 48\r\n",
        "thread_num = 14\r\n",
        "\r\n",
        "liverlist = [32,34,38,41,47,87,89,91,105,106,114,115,119]\r\n",
        "def load_seq_crop_data_masktumor_try(Parameter_List):\r\n",
        "    img = Parameter_List[0]\r\n",
        "    tumor = Parameter_List[1]\r\n",
        "    lines = Parameter_List[2]\r\n",
        "    numid = Parameter_List[3]\r\n",
        "    minindex = Parameter_List[4]\r\n",
        "    maxindex = Parameter_List[5]\r\n",
        "    #  randomly scale\r\n",
        "    scale = np.random.uniform(0.8,1.2)\r\n",
        "    deps = int(224 * scale)\r\n",
        "    rows = int(224 * scale)\r\n",
        "    cols = 3\r\n",
        "\r\n",
        "    sed = np.random.randint(1,numid)\r\n",
        "    cen = lines[sed-1]\r\n",
        "    cen = np.fromstring(cen, dtype=int, sep=' ')\r\n",
        "    # print (cen)\r\n",
        "    a = min(max(minindex[0] + deps/2, cen[0]), maxindex[0]- deps/2-1)\r\n",
        "    b = min(max(minindex[1] + rows/2, cen[1]), maxindex[1]- rows/2-1)\r\n",
        "    c = min(max(minindex[2] + cols/2, cen[2]), maxindex[2]- cols/2-1)\r\n",
        "    \r\n",
        "    a1=min(img.shape[0]-int(a - deps / 2),int(a + (deps / 2)))\r\n",
        "    a2=max(img.shape[0]-int(a - deps / 2),int(a + (deps / 2)))\r\n",
        "    b1=min(img.shape[1]-int(b - (rows / 2)),int(b + (rows / 2)))\r\n",
        "    b2=max(img.shape[1]-int(b - (rows / 2)),int(b + (rows / 2)))\r\n",
        "    c1=min(img.shape[2]-int(c - (cols / 2)),int(c + (cols / 2)))\r\n",
        "    c2=max(img.shape[2]-int(c - (cols / 2)),int(c + (cols / 2)))\r\n",
        "    \r\n",
        "    \r\n",
        "    # cropp_img = img[int(a - (deps / 2)):int(a + (deps / 2)), int(b - (rows / 2)):int(b + (rows / 2)),\r\n",
        "    #             int(c - (cols / 2)): int(c + (cols / 2) + 1)].copy()\r\n",
        "    # cropp_tumor = tumor[int(a -( deps / 2)):int(a + (deps / 2)), int(b - (rows / 2)):int(b + (rows / 2)),\r\n",
        "    #               int(c - (cols / 2)):int(c + (cols / 2) + 1)].copy()\r\n",
        "    \r\n",
        "    cropp_img = img[a1:a2, b1:b2,c1: c2+1].copy()\r\n",
        "\r\n",
        "    cropp_tumor = tumor[a1:a2, b1:b2,c1: c2+1].copy()\r\n",
        "\r\n",
        "    cropp_img -= MEAN\r\n",
        "     # randomly flipping\r\n",
        "    flip_num = np.random.randint(0, 8)\r\n",
        "    if flip_num == 1:\r\n",
        "        cropp_img = np.flipud(cropp_img)\r\n",
        "        cropp_tumor = np.flipud(cropp_tumor)\r\n",
        "    elif flip_num == 2:\r\n",
        "        cropp_img = np.fliplr(cropp_img)\r\n",
        "        cropp_tumor = np.fliplr(cropp_tumor)\r\n",
        "    elif flip_num == 3:\r\n",
        "        cropp_img = np.rot90(cropp_img, k=1, axes=(1, 0))\r\n",
        "        cropp_tumor = np.rot90(cropp_tumor, k=1, axes=(1, 0))\r\n",
        "    elif flip_num == 4:\r\n",
        "        cropp_img = np.rot90(cropp_img, k=3, axes=(1, 0))\r\n",
        "        cropp_tumor = np.rot90(cropp_tumor, k=3, axes=(1, 0))\r\n",
        "    elif flip_num == 5:\r\n",
        "        cropp_img = np.fliplr(cropp_img)\r\n",
        "        cropp_tumor = np.fliplr(cropp_tumor)\r\n",
        "        cropp_img = np.rot90(cropp_img, k=1, axes=(1, 0))\r\n",
        "        cropp_tumor = np.rot90(cropp_tumor, k=1, axes=(1, 0))\r\n",
        "    elif flip_num == 6:\r\n",
        "        cropp_img = np.fliplr(cropp_img)\r\n",
        "        cropp_tumor = np.fliplr(cropp_tumor)\r\n",
        "        cropp_img = np.rot90(cropp_img, k=3, axes=(1, 0))\r\n",
        "        cropp_tumor = np.rot90(cropp_tumor, k=3, axes=(1, 0))\r\n",
        "    elif flip_num == 7:\r\n",
        "        cropp_img = np.flipud(cropp_img)\r\n",
        "        cropp_tumor = np.flipud(cropp_tumor)\r\n",
        "        cropp_img = np.fliplr(cropp_img)\r\n",
        "        cropp_tumor = np.fliplr(cropp_tumor)\r\n",
        "\r\n",
        "    cropp_tumor = resize(cropp_tumor, (224,224,3), order=0, mode='edge', cval=0, clip=True, preserve_range=True)\r\n",
        "    cropp_img   = resize(cropp_img, (224,224,3), order=3, mode='constant', cval=0, clip=True, preserve_range=True)\r\n",
        "    return cropp_img, cropp_tumor[:,:,1]\r\n",
        "\r\n",
        "def generate_arrays_from_file(batch_size, trainidx, img_list, tumor_list, tumorlines, liverlines, tumoridx, liveridx, minindex_list, maxindex_list):\r\n",
        "    while 1:\r\n",
        "        X = np.zeros((batch_size, 224,224,3), dtype='float32')\r\n",
        "        Y = np.zeros((batch_size, 224,224, 1), dtype='int16')\r\n",
        "        Parameter_List = []\r\n",
        "        for idx in range(batch_size):\r\n",
        "            count = random.choice(trainidx)\r\n",
        "            img = img_list[count]\r\n",
        "            tumor = tumor_list[count]\r\n",
        "            minindex = minindex_list[count]\r\n",
        "            maxindex = maxindex_list[count]\r\n",
        "            num = np.random.randint(0,6)\r\n",
        "            if num < 3 or (count in liverlist):\r\n",
        "                lines = liverlines[count]\r\n",
        "                numid = liveridx[count]\r\n",
        "            else:\r\n",
        "                lines = tumorlines[count]\r\n",
        "                numid = tumoridx[count]\r\n",
        "            Parameter_List.append([img, tumor, lines, numid, minindex, maxindex])\r\n",
        "        pool = ThreadPool(thread_num)\r\n",
        "        result_list = pool.map(load_seq_crop_data_masktumor_try, Parameter_List)\r\n",
        "        pool.close()\r\n",
        "        pool.join()\r\n",
        "        for idx in range(len(result_list)):\r\n",
        "            X[idx, :, :, :] = result_list[idx][0]\r\n",
        "            Y[idx, :, :, 0] = result_list[idx][1]\r\n",
        "        yield (X,Y)\r\n",
        "\r\n",
        "\r\n",
        "def load_fast_files():\r\n",
        "\r\n",
        "    trainidx = list(range(5))\r\n",
        "    img_list = []\r\n",
        "    tumor_list = []\r\n",
        "    minindex_list = []\r\n",
        "    maxindex_list = []\r\n",
        "    tumorlines = []\r\n",
        "    tumoridx = []\r\n",
        "    liveridx = []\r\n",
        "    liverlines = []\r\n",
        "    for idx in range(5):\r\n",
        "        img, img_header = load('/content/H-DenseUNet/data/myTrainingData/volume-'+str(idx)+'.nii')\r\n",
        "        tumor, tumor_header = load('/content/H-DenseUNet/data/myTrainingData/segmentation-'+str(idx)+'.nii')\r\n",
        "        img_list.append(img)\r\n",
        "        tumor_list.append(tumor)\r\n",
        "\r\n",
        "        maxmin = np.loadtxt('/content/H-DenseUNet/data/myTrainingDataTxt/LiverBox/box_'+str(idx)+'.txt')\r\n",
        "        minindex = maxmin[0:3]\r\n",
        "        maxindex = maxmin[3:6]\r\n",
        "        minindex = np.array(minindex, dtype='int')\r\n",
        "        maxindex = np.array(maxindex, dtype='int')\r\n",
        "        minindex[0] = max(minindex[0] - 3, 0)\r\n",
        "        minindex[1] = max(minindex[1] - 3, 0)\r\n",
        "        minindex[2] = max(minindex[2] - 3, 0)\r\n",
        "        maxindex[0] = min(img.shape[0], maxindex[0] + 3)\r\n",
        "        maxindex[1] = min(img.shape[1], maxindex[1] + 3)\r\n",
        "        maxindex[2] = min(img.shape[2], maxindex[2] + 3)\r\n",
        "        minindex_list.append(minindex)\r\n",
        "        maxindex_list.append(maxindex)\r\n",
        "        f1 = open('/content/H-DenseUNet/data/myTrainingDataTxt/TumorPixels/tumor_'+str(idx)+'.txt')\r\n",
        "        tumorline = f1.readlines()\r\n",
        "        tumorlines.append(tumorline)\r\n",
        "        tumoridx.append(len(tumorline))\r\n",
        "        f1.close()\r\n",
        "        f2 = open('/content/H-DenseUNet/data/myTrainingDataTxt/LiverPixels/liver_'+str(idx)+'.txt')\r\n",
        "        liverline = f2.readlines()\r\n",
        "        liverlines.append(liverline)\r\n",
        "        liveridx.append(len(liverline))\r\n",
        "        f2.close()\r\n",
        "\r\n",
        "    return trainidx, img_list, tumor_list, tumorlines, liverlines, tumoridx, liveridx, minindex_list, maxindex_list\r\n",
        "\r\n",
        "def train_and_predict():\r\n",
        "\r\n",
        "    print('-'*30)\r\n",
        "    print('Creating and compiling model...')\r\n",
        "    print('-'*30)\r\n",
        "\r\n",
        "    model = DenseUNet(reduction=0.5)\r\n",
        "    model.load_weights('/content/H-DenseUNet/data/weights.hdf5', by_name=True)\r\n",
        "#     model = make_parallel(model, args.b / 10, mini_batch=10)\r\n",
        "    sgd = SGD(lr=1e-3, momentum=0.9, nesterov=True)\r\n",
        "    model.compile(optimizer=sgd, loss=[weighted_crossentropy_2ddense])\r\n",
        "\r\n",
        "    trainidx, img_list, tumor_list, tumorlines, liverlines, tumoridx, liveridx, minindex_list, maxindex_list = load_fast_files()\r\n",
        "\r\n",
        "    print('-'*30)\r\n",
        "    print('Fitting model......')\r\n",
        "    print('-'*30)\r\n",
        "\r\n",
        "    # if not os.path.exists(args.save_path):\r\n",
        "    #     os.mkdir(args.save_path)\r\n",
        "\r\n",
        "    # if not os.path.exists(args.save_path + \"/model\"):\r\n",
        "    #     os.mkdir(args.save_path + '/model')\r\n",
        "    #     os.mkdir(args.save_path + '/history')\r\n",
        "    # else:\r\n",
        "    #     if os.path.exists(args.save_path+ \"/history/lossbatch.txt\"):\r\n",
        "    #         os.remove(args.save_path + '/history/lossbatch.txt')\r\n",
        "    #     if os.path.exists(args.save_path + \"/history/lossepoch.txt\"):\r\n",
        "    #         os.remove(args.save_path + '/history/lossepoch.txt')\r\n",
        "\r\n",
        "    # model_checkpoint = ModelCheckpoint(args.save_path + '/model/weights.{epoch:02d}-{loss:.2f}.hdf5', monitor='loss', verbose = 1,\r\n",
        "    #                                    save_best_only=False,save_weights_only=False,mode = 'min', period = 1)\r\n",
        "\r\n",
        "\r\n",
        "    steps = 1\r\n",
        "    model.fit_generator(generate_arrays_from_file(1, trainidx, img_list, tumor_list, tumorlines, liverlines, tumoridx,\r\n",
        "                                                  liveridx, minindex_list, maxindex_list),steps_per_epoch=steps,\r\n",
        "                                                    epochs= 6000, verbose = 1, max_queue_size=1,\r\n",
        "                                                    workers=3, use_multiprocessing=True)\r\n",
        "\r\n",
        "    print ('Finised Training .......')\r\n",
        "\r\n",
        "# if __name__ == '__main__':\r\n",
        "#     train_and_predict()"
      ],
      "execution_count": 107,
      "outputs": []
    },
    {
      "cell_type": "code",
      "metadata": {
        "colab": {
          "base_uri": "https://localhost:8080/"
        },
        "id": "ufyDpClI_8C9",
        "outputId": "51bae489-6277-42c9-d852-7392c62a7166"
      },
      "source": [
        "train_and_predict()"
      ],
      "execution_count": null,
      "outputs": [
        {
          "output_type": "stream",
          "text": [
            "------------------------------\n",
            "Creating and compiling model...\n",
            "------------------------------\n",
            "------------------------------\n",
            "Fitting model......\n",
            "------------------------------\n"
          ],
          "name": "stdout"
        },
        {
          "output_type": "stream",
          "text": [
            "/usr/local/lib/python3.6/dist-packages/keras/engine/training_generator.py:47: UserWarning: Using a generator with `use_multiprocessing=True` and multiple workers may duplicate your data. Please consider using the`keras.utils.Sequence class.\n",
            "  UserWarning('Using a generator with `use_multiprocessing=True`'\n"
          ],
          "name": "stderr"
        },
        {
          "output_type": "stream",
          "text": [
            "Epoch 1/6000\n"
          ],
          "name": "stdout"
        }
      ]
    }
  ]
}